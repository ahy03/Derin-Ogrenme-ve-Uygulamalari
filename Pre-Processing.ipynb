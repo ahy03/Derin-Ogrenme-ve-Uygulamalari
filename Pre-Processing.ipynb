{
 "cells": [
  {
   "cell_type": "code",
   "execution_count": 1,
   "id": "0fa7fe7b",
   "metadata": {},
   "outputs": [],
   "source": [
    "#data klasöründen verilerin okunması ve\n",
    "#egitim_X[] içerisine kaydedilmesi\n",
    "import os\n",
    " \n",
    "#Text dosyaları data isimli klasör içerisinde olsun\n",
    "BASE_DIR = os.getcwd()\n",
    "TEXT_DATA_DIR = os.path.join(BASE_DIR, 'data')"
   ]
  },
  {
   "cell_type": "code",
   "execution_count": 7,
   "id": "980599b6",
   "metadata": {},
   "outputs": [],
   "source": [
    "egitim_X = []\n",
    "#data klasöründeki tüm dosyaları teker teker oku\n",
    "for name in sorted(os.listdir(TEXT_DATA_DIR)):\n",
    "    fname = os.path.join(TEXT_DATA_DIR, name)\n",
    "    #dosya uzantısı .txt ise \n",
    "    if fname.endswith(\"istiklalmarsi.txt\"):\n",
    "        with open(fname,encoding=\"UTF-8\") as infile:\n",
    "            for line in infile:\n",
    "                #satır başı ve sonu dışındaki olası boşlukları temizle\n",
    "                line = line.strip()\n",
    "                try:\n",
    "                  egitim_X.append(line)\n",
    "                except Exception as e:\n",
    "                  print(e)"
   ]
  },
  {
   "cell_type": "code",
   "execution_count": 10,
   "id": "fd6a5d13",
   "metadata": {},
   "outputs": [
    {
     "name": "stdout",
     "output_type": "stream",
     "text": [
      "Korkma, sönmez bu şafaklarda yüzen al sancak;\n",
      "\"Medeniyet!\" dediğin tek dişi kalmış canavar?\n"
     ]
    }
   ],
   "source": [
    "#ilk ve son satırları yazdır\n",
    "print(egitim_X[0])\n",
    "print(egitim_X[-1])"
   ]
  },
  {
   "cell_type": "code",
   "execution_count": 11,
   "id": "18bc5ed5",
   "metadata": {},
   "outputs": [
    {
     "name": "stdout",
     "output_type": "stream",
     "text": [
      "16\n"
     ]
    }
   ],
   "source": [
    "#veri sayısını yazdır\n",
    "print(len(egitim_X))"
   ]
  },
  {
   "cell_type": "code",
   "execution_count": 12,
   "id": "a6c4e4e8",
   "metadata": {},
   "outputs": [],
   "source": [
    "from keras.preprocessing.text import Tokenizer\n",
    " \n",
    "# tokinizer nesnesini oluştur\n",
    " \n",
    "# parametres opsiyonları ve default değerleri\n",
    "# num_words=None, lower=True, split=' '\n",
    "# filters='!\"#$%&()*+,-./:;<=>?@[\\]^_`{|}~ '\n",
    " "
   ]
  },
  {
   "cell_type": "code",
   "execution_count": 13,
   "id": "df2830bc",
   "metadata": {},
   "outputs": [
    {
     "data": {
      "image/jpeg": "[encoded data removed]",
      "text/plain": [
       "<IPython.core.display.Image object>"
      ]
     },
     "execution_count": 13,
     "metadata": {
      "image/jpeg": {
       "width": 300
      }
     },
     "output_type": "execute_result"
    }
   ],
   "source": [
    "#Import library\n",
    "from IPython.display import Image\n",
    "Image(filename = \"data/tokenize.jpg\", width = 300)"
   ]
  },
  {
   "cell_type": "code",
   "execution_count": 14,
   "id": "a1416e0d",
   "metadata": {},
   "outputs": [],
   "source": [
    "# metinlerde en çok geçen 20 kelimenin işleme alınmasını sağlayalım\n",
    "MAX_NUM_WORDS = 20\n",
    "tokenizer = Tokenizer(num_words=MAX_NUM_WORDS)\n",
    "\n",
    "# giriş verisine göre tokinizer sınıfının ayarlanması\n",
    "tokenizer.fit_on_texts(egitim_X)\n",
    "\n",
    "##tokinizer giriş verisiyle ilgili bilmesi gereken bir çok şeyi biliyor\n",
    "#kelime listesi , kelime frekansları , en fazla geçen 20 kelime gibi"
   ]
  },
  {
   "cell_type": "code",
   "execution_count": 15,
   "id": "c22aa063",
   "metadata": {},
   "outputs": [
    {
     "name": "stdout",
     "output_type": "stream",
     "text": [
      "bu\n",
      "o\n",
      "benim\n",
      "korkma\n",
      "milletimin\n",
      "bir\n",
      "hür\n",
      "sönmez\n",
      "şafaklarda\n",
      "yüzen\n",
      "al\n",
      "sancak\n",
      "sönmeden\n",
      "yurdumun\n",
      "üstünde\n",
      "tüten\n",
      "en\n",
      "son\n",
      "ocak\n",
      "yıldızıdır\n",
      "parlayacak\n",
      "benimdir\n",
      "milletimindir\n",
      "ancak\n",
      "çatma\n",
      "kurban\n",
      "olayım\n",
      "çehreni\n",
      "ey\n",
      "nazlı\n",
      "hilâl\n",
      "kahraman\n",
      "ırkıma\n",
      "gül…\n",
      "ne\n",
      "şiddet\n",
      "celâl\n",
      "sana\n",
      "olmaz\n",
      "dökülen\n",
      "kanlarımız\n",
      "sonra\n",
      "helâl\n",
      "hakkıdır\n",
      "hakk’a\n",
      "tapan\n",
      "istiklâl\n",
      "ben\n",
      "ezelden\n",
      "beridir\n",
      "yaşadım\n",
      "yaşarım\n",
      "hangi\n",
      "çılgın\n",
      "bana\n",
      "zincir\n",
      "vuracakmış\n",
      "şaşarım\n",
      "kükremiş\n",
      "sel\n",
      "gibiyim\n",
      "bendimi\n",
      "çiğner\n",
      "aşarım\n",
      "yırtarım\n",
      "dağları\n",
      "enginlere\n",
      "sığmam\n",
      "taşarım\n",
      "garb’ın\n",
      "âfâkını\n",
      "sarmışsa\n",
      "çelik\n",
      "zırhlı\n",
      "duvar\n",
      "iman\n",
      "dolu\n",
      "göğsüm\n",
      "gibi\n",
      "serhaddim\n",
      "var\n",
      "ulusun\n",
      "nasıl\n",
      "böyle\n",
      "îmânı\n",
      "boğar\n",
      "medeniyet\n",
      "dediğin\n",
      "tek\n",
      "dişi\n",
      "kalmış\n",
      "canavar\n"
     ]
    }
   ],
   "source": [
    "#hangi kelimelerin geçtiğine bakalım\n",
    "for kelime in tokenizer.word_index:\n",
    "    print(kelime)"
   ]
  },
  {
   "cell_type": "code",
   "execution_count": 16,
   "id": "980c92a6",
   "metadata": {},
   "outputs": [
    {
     "name": "stdout",
     "output_type": "stream",
     "text": [
      "Toplam  92  adet farklı kelime bulunmaktadır\n",
      "Toplam  20  adet  kelime işleme alınacaktır\n"
     ]
    }
   ],
   "source": [
    "print(\"Toplam \", len(tokenizer.word_index), \" adet farklı kelime bulunmaktadır\")\n",
    "print(\"Toplam \", tokenizer.num_words, \" adet  kelime işleme alınacaktır\")"
   ]
  },
  {
   "cell_type": "code",
   "execution_count": 17,
   "id": "1c719aa1",
   "metadata": {},
   "outputs": [
    {
     "name": "stdout",
     "output_type": "stream",
     "text": [
      "bu = 3     \n",
      "o = 3     \n",
      "benim = 3     \n",
      "korkma = 2     \n",
      "milletimin = 2     \n",
      "bir = 2     \n",
      "hür = 2     \n",
      "sönmez = 1     \n",
      "şafaklarda = 1     \n",
      "yüzen = 1     \n",
      "al = 1     \n",
      "sancak = 1     \n",
      "sönmeden = 1     \n",
      "yurdumun = 1     \n",
      "üstünde = 1     \n",
      "tüten = 1     \n",
      "en = 1     \n",
      "son = 1     \n",
      "ocak = 1     \n",
      "yıldızıdır = 1     \n",
      "parlayacak = 1     \n",
      "benimdir = 1     \n",
      "milletimindir = 1     \n",
      "ancak = 1     \n",
      "çatma = 1     \n",
      "kurban = 1     \n",
      "olayım = 1     \n",
      "çehreni = 1     \n",
      "ey = 1     \n",
      "nazlı = 1     \n",
      "hilâl = 1     \n",
      "kahraman = 1     \n",
      "ırkıma = 1     \n",
      "gül… = 1     \n",
      "ne = 1     \n",
      "şiddet = 1     \n",
      "celâl = 1     \n",
      "sana = 1     \n",
      "olmaz = 1     \n",
      "dökülen = 1     \n",
      "kanlarımız = 1     \n",
      "sonra = 1     \n",
      "helâl = 1     \n",
      "hakkıdır = 1     \n",
      "hakk’a = 1     \n",
      "tapan = 1     \n",
      "istiklâl = 1     \n",
      "ben = 1     \n",
      "ezelden = 1     \n",
      "beridir = 1     \n",
      "yaşadım = 1     \n",
      "yaşarım = 1     \n",
      "hangi = 1     \n",
      "çılgın = 1     \n",
      "bana = 1     \n",
      "zincir = 1     \n",
      "vuracakmış = 1     \n",
      "şaşarım = 1     \n",
      "kükremiş = 1     \n",
      "sel = 1     \n",
      "gibiyim = 1     \n",
      "bendimi = 1     \n",
      "çiğner = 1     \n",
      "aşarım = 1     \n",
      "yırtarım = 1     \n",
      "dağları = 1     \n",
      "enginlere = 1     \n",
      "sığmam = 1     \n",
      "taşarım = 1     \n",
      "garb’ın = 1     \n",
      "âfâkını = 1     \n",
      "sarmışsa = 1     \n",
      "çelik = 1     \n",
      "zırhlı = 1     \n",
      "duvar = 1     \n",
      "iman = 1     \n",
      "dolu = 1     \n",
      "göğsüm = 1     \n",
      "gibi = 1     \n",
      "serhaddim = 1     \n",
      "var = 1     \n",
      "ulusun = 1     \n",
      "nasıl = 1     \n",
      "böyle = 1     \n",
      "îmânı = 1     \n",
      "boğar = 1     \n",
      "medeniyet = 1     \n",
      "dediğin = 1     \n",
      "tek = 1     \n",
      "dişi = 1     \n",
      "kalmış = 1     \n",
      "canavar = 1     \n"
     ]
    }
   ],
   "source": [
    "#bütün kelimeleri ve frekanslarını yazdıralım\n",
    "for kelime in tokenizer.word_index:\n",
    "    print(kelime, \"=\", tokenizer.word_counts[kelime], \"    \",)"
   ]
  },
  {
   "cell_type": "code",
   "execution_count": 18,
   "id": "906f05c0",
   "metadata": {},
   "outputs": [
    {
     "name": "stdout",
     "output_type": "stream",
     "text": [
      "[4, 8, 1, 9, 10, 11, 12]   \n",
      "[13, 14, 15, 16, 17, 18, 19]   \n",
      "[2, 3, 5]   \n",
      "[2, 2, 3]   \n",
      "[]   \n",
      "[6, 1, 1]   \n",
      "[]   \n",
      "[5]   \n",
      "[7, 7]   \n",
      "[]   \n",
      "[]   \n",
      "[]   \n",
      "[]   \n",
      "[3]   \n",
      "[4, 6]   \n",
      "[]   \n"
     ]
    }
   ],
   "source": [
    "#Bu aşamaya kadar gerçekleştirilen bütün adımlar, \n",
    "#giriş verisinin sayısal veriler olarak temsil edilmesi içindi. Şimdi bunu gerçekleştirelim:\n",
    "\n",
    "sequences = tokenizer.texts_to_sequences(egitim_X)\n",
    "\n",
    "for satir in sequences:\n",
    "    print(satir, \"  \",)"
   ]
  },
  {
   "cell_type": "code",
   "execution_count": 19,
   "id": "5fb6eab5",
   "metadata": {},
   "outputs": [],
   "source": [
    "#Veriler artık cümleler yerine sayısal değerler ifade edilmiş\n",
    "#Fakat önemli eksikler var\n",
    "#Bazı cümlelerin [] şeklinde boş dizilere dönüştüğünü görüyoruz\n",
    "#Genellik tamamen boş diziyle karşılaşmak burdakindan daha nadir gerçekleşir. \n",
    "#Çünki en azından en çok geçen 10.000 kelime’den birkaçı bir veride bulunması beklenir. \n",
    "#Fakat bu örnekte, verileri manuel olarak takip edebilmemiz açısından az sayıda veri kullanıldı\n",
    "#maksimum kelime sayısı 20 seçildi.\n",
    "#Ayrıca görüldüğü üzere her veri farklı uzunlukta. \n",
    "#Çoğu algoritma giriş verilerinin sabit uzunlukta olmasını bekler. \n",
    "#Bu durumlarda tokenizer’ın padding metodunu kullanırız."
   ]
  },
  {
   "cell_type": "code",
   "execution_count": 23,
   "id": "6f7a2479",
   "metadata": {},
   "outputs": [
    {
     "name": "stdout",
     "output_type": "stream",
     "text": [
      "[ 9 10 11 12]   \n",
      "[16 17 18 19]   \n",
      "[0 2 3 5]   \n",
      "[0 2 2 3]   \n",
      "[0 0 0 0]   \n",
      "[0 6 1 1]   \n",
      "[0 0 0 0]   \n",
      "[0 0 0 5]   \n",
      "[0 0 7 7]   \n",
      "[0 0 0 0]   \n",
      "[0 0 0 0]   \n",
      "[0 0 0 0]   \n",
      "[0 0 0 0]   \n",
      "[0 0 0 3]   \n",
      "[0 0 4 6]   \n",
      "[0 0 0 0]   \n"
     ]
    }
   ],
   "source": [
    "# her bir giriş verisininin uzunluğu yalnızca 4 olsun\n",
    "from keras.utils import pad_sequences\n",
    " \n",
    "giris = pad_sequences(sequences, maxlen=4)\n",
    "for satir in giris:\n",
    "    print(satir, \"  \",)"
   ]
  },
  {
   "cell_type": "code",
   "execution_count": null,
   "id": "9964d36e",
   "metadata": {},
   "outputs": [],
   "source": []
  }
 ],
 "metadata": {
  "kernelspec": {
   "display_name": "Python 3 (ipykernel)",
   "language": "python",
   "name": "python3"
  },
  "language_info": {
   "codemirror_mode": {
    "name": "ipython",
    "version": 3
   },
   "file_extension": ".py",
   "mimetype": "text/x-python",
   "name": "python",
   "nbconvert_exporter": "python",
   "pygments_lexer": "ipython3",
   "version": "3.10.8"
  }
 },
 "nbformat": 4,
 "nbformat_minor": 5
}
