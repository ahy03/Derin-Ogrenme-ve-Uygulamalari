{
 "cells": [
  {
   "cell_type": "markdown",
   "id": "documentary-brighton",
   "metadata": {},
   "source": [
    "- Kaynak: Franchois Chollet, Deep Learning with Python"
   ]
  },
  {
   "cell_type": "markdown",
   "id": "settled-operator",
   "metadata": {},
   "source": [
    "# Doğal Dil İşleme"
   ]
  },
  {
   "cell_type": "markdown",
   "id": "nonprofit-advertising",
   "metadata": {},
   "source": [
    "- Sequence verilerinde kullanılan iki temel algoritma RNN, CNN1D\n",
    "    - Doküman Sınıflandırma: Bir kitabın yazarını, makale başlığını tanımlama\n",
    "    - Zaman Serileri: \n",
    "    - Diziden Diziye: İngilizce bir emtni Türkçeye çevirme\n",
    "    - Duygu Analizi"
   ]
  },
  {
   "cell_type": "markdown",
   "id": "multiple-deadline",
   "metadata": {},
   "source": [
    "- Diğer Sinir ağlarında olduğu gibi derin öğrenme modelleri de ham metin verisini girdi olarak almaz. Sadece sayısal tensörlerle çalışır.\n",
    "- Vektör haline getirme işlemi, metni sayısal tensörlere dönüştürme işlemidir. Burada birkaç yöntem vardır:\n",
    "    - Metni kelimelere böl, her kelimeyi vektöre dönüştür.\n",
    "    - Metni karakterlere böl, her karakteri vektöre dönüştür.\n",
    "    - Kelime veya karakterlerin n-gramlarını çıkar, her n-gramı vektöre dönüştür. (N-gram tekrar eden kelime karakter grupları)\n",
    "- Metnin farklı birimlere (kelime/karakter/n-gram) ayrılmasıyla elde edilen yapıları token denilir.\n",
    "- Metni vektör haline getirme işlemi, tokenize ettikten sonra her tokeni sayısal tensörle ilişkilendirmedir.\n",
    "\n",
    "![](imgs_lstm/1.png)\n",
    "\n",
    "- Bir vektörü bir tokenle ilişkilendirmenin yolları: One-hot encoding, embedding\n",
    "\n",
    "![](imgs_lstm/4.png)\n",
    "\n",
    "### WordVec\n",
    "\n",
    "![](imgs_lstm/3.png)"
   ]
  },
  {
   "cell_type": "markdown",
   "id": "tight-longer",
   "metadata": {},
   "source": [
    "### N-Gram"
   ]
  },
  {
   "cell_type": "markdown",
   "id": "theoretical-nepal",
   "metadata": {},
   "source": [
    "- Bir cümleden çıkarabileceğiniz N tane ve ya daha az kelime grubudur.\n",
    "\n",
    "![](imgs_lstm/2.jpg)"
   ]
  },
  {
   "cell_type": "markdown",
   "id": "periodic-emerald",
   "metadata": {},
   "source": [
    "### One-Hot Encoding"
   ]
  },
  {
   "cell_type": "code",
   "execution_count": 1,
   "id": "funded-defense",
   "metadata": {},
   "outputs": [],
   "source": [
    "#data klasöründen verilerin okunması ve\n",
    "#egitim_X[] içerisine kaydedilmesi\n",
    "import os\n",
    " \n",
    "#Text dosyaları data isimli klasör içerisinde olsun\n",
    "BASE_DIR = os.getcwd()\n",
    "TEXT_DATA_DIR = os.path.join(BASE_DIR, 'imgs_lstm')"
   ]
  },
  {
   "cell_type": "code",
   "execution_count": 12,
   "id": "champion-nightmare",
   "metadata": {},
   "outputs": [],
   "source": [
    "egitim_X = []\n",
    "#data klasöründeki tüm dosyaları teker teker oku\n",
    "for name in sorted(os.listdir(TEXT_DATA_DIR)):\n",
    "    fname = os.path.join(TEXT_DATA_DIR, name)\n",
    "    #dosya uzantısı .txt ise \n",
    "    if fname.endswith(\"istiklal.txt\"):\n",
    "        with open(fname,encoding=\"ANSI\") as infile:\n",
    "            for line in infile:\n",
    "                #satır başı ve sonu dışındaki olası boşlukları temizle\n",
    "                line = line.strip()\n",
    "                try:\n",
    "                  egitim_X.append(line)\n",
    "                except Exception as e:\n",
    "                  print(e)\n"
   ]
  },
  {
   "cell_type": "code",
   "execution_count": 13,
   "id": "contained-associate",
   "metadata": {},
   "outputs": [
    {
     "name": "stdout",
     "output_type": "stream",
     "text": [
      "Korkma, sönmez bu şafaklarda yüzen al sancak;\n",
      "Ulusun, korkma! Nasıl böyle bir îmânı boğar,\n"
     ]
    }
   ],
   "source": [
    "#ilk ve son satırları yazdır\n",
    "print(egitim_X[0])\n",
    "print(egitim_X[-2])"
   ]
  },
  {
   "cell_type": "code",
   "execution_count": 14,
   "id": "representative-humidity",
   "metadata": {},
   "outputs": [
    {
     "name": "stdout",
     "output_type": "stream",
     "text": [
      "16\n"
     ]
    }
   ],
   "source": [
    "#veri sayısını yazdır\n",
    "print(len(egitim_X))"
   ]
  },
  {
   "cell_type": "code",
   "execution_count": 19,
   "id": "organized-amplifier",
   "metadata": {},
   "outputs": [],
   "source": [
    "from keras.preprocessing.text import Tokenizer\n",
    " \n",
    "# tokinizer nesnesini oluştur\n",
    " \n",
    "# parametres opsiyonları ve default değerleri\n",
    "# num_words=None, lower=True, split=' ', char_level=False, oov_token=None\n",
    "# filters='!\"#$%&()*+,-./:;<=>?@[\\]^_`{|}~ '\n",
    " \n",
    "# metinlerde en çok geçen 10 kelimenin işleme alınmasını sağlayalım\n",
    "MAX_NUM_WORDS = 20\n",
    "tokenizer = Tokenizer(num_words=MAX_NUM_WORDS)\n",
    "\n",
    "# giriş verisine göre tokinizer sınıfının ayarlanması\n",
    "tokenizer.fit_on_texts(egitim_X)"
   ]
  },
  {
   "cell_type": "markdown",
   "id": "natural-psychiatry",
   "metadata": {},
   "source": [
    "- Giriş verisi hala egitim_X ‘de saklandığı şekilde\n",
    "- Fakat tokinizer giriş verisiyle ilgili bilmesi gereken bir çok şeyi biliyor\n",
    "     - kelime listesi ,  kelime frekansları ,  en fazla geçen 10 kelime gibi"
   ]
  },
  {
   "cell_type": "code",
   "execution_count": 20,
   "id": "deadly-explorer",
   "metadata": {},
   "outputs": [
    {
     "name": "stdout",
     "output_type": "stream",
     "text": [
      "bu\n",
      "o\n",
      "benim\n",
      "korkma\n",
      "milletimin\n",
      "bir\n",
      "hür\n",
      "sönmez\n",
      "şafaklarda\n",
      "yüzen\n",
      "al\n",
      "sancak\n",
      "sönmeden\n",
      "yurdumun\n",
      "üstünde\n",
      "tüten\n",
      "en\n",
      "son\n",
      "ocak\n",
      "yıldızıdır\n",
      "parlayacak\n",
      "benimdir\n",
      "milletimindir\n",
      "ancak\n",
      "çatma\n",
      "kurban\n",
      "olayım\n",
      "çehreni\n",
      "ey\n",
      "nazlı\n",
      "hilâl\n",
      "kahraman\n",
      "ırkıma\n",
      "gül…\n",
      "ne\n",
      "şiddet\n",
      "celâl\n",
      "sana\n",
      "olmaz\n",
      "dökülen\n",
      "kanlarımız\n",
      "sonra\n",
      "helâl\n",
      "hakkıdır\n",
      "hakk’a\n",
      "tapan\n",
      "istiklâl\n",
      "ben\n",
      "ezelden\n",
      "beridir\n",
      "yaşadım\n",
      "yaşarım\n",
      "hangi\n",
      "çılgın\n",
      "bana\n",
      "zincir\n",
      "vuracakmış\n",
      "şaşarım\n",
      "kükremiş\n",
      "sel\n",
      "gibiyim\n",
      "bendimi\n",
      "çiğner\n",
      "aşarım\n",
      "yırtarım\n",
      "dağları\n",
      "enginlere\n",
      "sığmam\n",
      "taşarım\n",
      "garb’ın\n",
      "âfâkını\n",
      "sarmışsa\n",
      "çelik\n",
      "zırhlı\n",
      "duvar\n",
      "iman\n",
      "dolu\n",
      "göğsüm\n",
      "gibi\n",
      "serhaddim\n",
      "var\n",
      "ulusun\n",
      "nasıl\n",
      "böyle\n",
      "îmânı\n",
      "boğar\n",
      "medeniyet\n",
      "dediğin\n",
      "tek\n",
      "dişi\n",
      "kalmış\n",
      "canavar\n"
     ]
    }
   ],
   "source": [
    "#hangi kelimelerin geçtiğine bakalım\n",
    "for kelime in tokenizer.word_index:\n",
    "    print(kelime)"
   ]
  },
  {
   "cell_type": "code",
   "execution_count": 21,
   "id": "hearing-study",
   "metadata": {},
   "outputs": [
    {
     "name": "stdout",
     "output_type": "stream",
     "text": [
      "Toplam  92  adet farklı kelime bulunmaktadır\n",
      "Toplam  20  adet  kelime işleme alınacaktır\n"
     ]
    }
   ],
   "source": [
    "print(\"Toplam \", len(tokenizer.word_index), \" adet farklı kelime bulunmaktadır\")\n",
    "print(\"Toplam \", tokenizer.num_words, \" adet  kelime işleme alınacaktır\")"
   ]
  },
  {
   "cell_type": "markdown",
   "id": "professional-expression",
   "metadata": {},
   "source": [
    "- Görüldüğü üzere bütün kelimeler default olarak verilmiş split=’ ‘ kuralına göre bulunmuş\n",
    "- Tokenizer sınıfının en önemli nesneleri word_index ve word_counts’dır."
   ]
  },
  {
   "cell_type": "code",
   "execution_count": 23,
   "id": "outdoor-annex",
   "metadata": {},
   "outputs": [
    {
     "name": "stdout",
     "output_type": "stream",
     "text": [
      "korkma kelimesi toplam  3  kez geçmiştir\n",
      "korkma kelimesine verilen id =  1\n"
     ]
    }
   ],
   "source": [
    "print(\"korkma kelimesi toplam \", tokenizer.word_counts['bu'], \" kez geçmiştir\")\n",
    "print(\"korkma kelimesine verilen id = \", tokenizer.word_index['bu'])"
   ]
  },
  {
   "cell_type": "code",
   "execution_count": 24,
   "id": "altered-episode",
   "metadata": {},
   "outputs": [
    {
     "name": "stdout",
     "output_type": "stream",
     "text": [
      "bu = 3     \n",
      "o = 3     \n",
      "benim = 3     \n",
      "korkma = 2     \n",
      "milletimin = 2     \n",
      "bir = 2     \n",
      "hür = 2     \n",
      "sönmez = 1     \n",
      "şafaklarda = 1     \n",
      "yüzen = 1     \n",
      "al = 1     \n",
      "sancak = 1     \n",
      "sönmeden = 1     \n",
      "yurdumun = 1     \n",
      "üstünde = 1     \n",
      "tüten = 1     \n",
      "en = 1     \n",
      "son = 1     \n",
      "ocak = 1     \n",
      "yıldızıdır = 1     \n",
      "parlayacak = 1     \n",
      "benimdir = 1     \n",
      "milletimindir = 1     \n",
      "ancak = 1     \n",
      "çatma = 1     \n",
      "kurban = 1     \n",
      "olayım = 1     \n",
      "çehreni = 1     \n",
      "ey = 1     \n",
      "nazlı = 1     \n",
      "hilâl = 1     \n",
      "kahraman = 1     \n",
      "ırkıma = 1     \n",
      "gül… = 1     \n",
      "ne = 1     \n",
      "şiddet = 1     \n",
      "celâl = 1     \n",
      "sana = 1     \n",
      "olmaz = 1     \n",
      "dökülen = 1     \n",
      "kanlarımız = 1     \n",
      "sonra = 1     \n",
      "helâl = 1     \n",
      "hakkıdır = 1     \n",
      "hakk’a = 1     \n",
      "tapan = 1     \n",
      "istiklâl = 1     \n",
      "ben = 1     \n",
      "ezelden = 1     \n",
      "beridir = 1     \n",
      "yaşadım = 1     \n",
      "yaşarım = 1     \n",
      "hangi = 1     \n",
      "çılgın = 1     \n",
      "bana = 1     \n",
      "zincir = 1     \n",
      "vuracakmış = 1     \n",
      "şaşarım = 1     \n",
      "kükremiş = 1     \n",
      "sel = 1     \n",
      "gibiyim = 1     \n",
      "bendimi = 1     \n",
      "çiğner = 1     \n",
      "aşarım = 1     \n",
      "yırtarım = 1     \n",
      "dağları = 1     \n",
      "enginlere = 1     \n",
      "sığmam = 1     \n",
      "taşarım = 1     \n",
      "garb’ın = 1     \n",
      "âfâkını = 1     \n",
      "sarmışsa = 1     \n",
      "çelik = 1     \n",
      "zırhlı = 1     \n",
      "duvar = 1     \n",
      "iman = 1     \n",
      "dolu = 1     \n",
      "göğsüm = 1     \n",
      "gibi = 1     \n",
      "serhaddim = 1     \n",
      "var = 1     \n",
      "ulusun = 1     \n",
      "nasıl = 1     \n",
      "böyle = 1     \n",
      "îmânı = 1     \n",
      "boğar = 1     \n",
      "medeniyet = 1     \n",
      "dediğin = 1     \n",
      "tek = 1     \n",
      "dişi = 1     \n",
      "kalmış = 1     \n",
      "canavar = 1     \n"
     ]
    }
   ],
   "source": [
    "#bütün kelimeleri ve frekanslarını yazdıralım\n",
    "for kelime in tokenizer.word_index:\n",
    "    print(kelime, \"=\", tokenizer.word_counts[kelime], \"    \",)"
   ]
  },
  {
   "cell_type": "markdown",
   "id": "removable-aquatic",
   "metadata": {},
   "source": [
    "- Bu aşamaya kadar gerçekleştirilen bütün adımlar, giriş verisinin sayısal veriler olarak temsil edilmesi içindi.  Şimdi bunu gerçekleştirelim:"
   ]
  },
  {
   "cell_type": "code",
   "execution_count": 25,
   "id": "alternative-awareness",
   "metadata": {},
   "outputs": [
    {
     "name": "stdout",
     "output_type": "stream",
     "text": [
      "[4, 8, 1, 9, 10, 11, 12]   \n",
      "[13, 14, 15, 16, 17, 18, 19]   \n",
      "[2, 3, 5]   \n",
      "[2, 2, 3]   \n",
      "[]   \n",
      "[6, 1, 1]   \n",
      "[]   \n",
      "[5]   \n",
      "[7, 7]   \n",
      "[]   \n",
      "[]   \n",
      "[]   \n",
      "[]   \n",
      "[3]   \n",
      "[4, 6]   \n",
      "[]   \n"
     ]
    }
   ],
   "source": [
    "sequences = tokenizer.texts_to_sequences(egitim_X)\n",
    "\n",
    "for satir in sequences:\n",
    "    print(satir, \"  \",)"
   ]
  },
  {
   "cell_type": "markdown",
   "id": "basic-breast",
   "metadata": {},
   "source": [
    "- Veriler artık cümleler yerine sayısal değerler ifade edilmiş\n",
    "- Fakat önemli eksikler var\n",
    "- Bazı cümlelerin [] şeklinde boş dizilere dönüştüğünü görüyoruz\n",
    "- Genellik tamamen boş diziyle karşılaşmak burdakindan daha nadir gerçekleşir. Çünki en azından en çok geçen 10.000 kelime’den birkaçı bir veride bulunması beklenir. Fakat bu örnekte, verileri manuel olarak takip edebilmemiz açısından az sayıda veri kullanıldı ve maksimum kelime sayısı 10 seçildi.\n",
    "- Ayrıca görüldüğü üzere her veri farklı uzunlukta. Çoğu algoritma giriş verilerinin sabit uzunlukta olmasını bekler. Bu durumlarda tokenizer’ın padding metodunu kullanırız."
   ]
  },
  {
   "cell_type": "code",
   "execution_count": 26,
   "id": "maritime-tuition",
   "metadata": {},
   "outputs": [],
   "source": [
    "# her bir giriş verisininin uzunluğu yalnızca 4 olsun\n",
    "from keras.preprocessing.sequence import pad_sequences\n",
    " \n",
    "giris = pad_sequences(sequences, maxlen=4)"
   ]
  },
  {
   "cell_type": "code",
   "execution_count": 27,
   "id": "acknowledged-segment",
   "metadata": {},
   "outputs": [
    {
     "name": "stdout",
     "output_type": "stream",
     "text": [
      "[ 9 10 11 12]   \n",
      "[16 17 18 19]   \n",
      "[0 2 3 5]   \n",
      "[0 2 2 3]   \n",
      "[0 0 0 0]   \n",
      "[0 6 1 1]   \n",
      "[0 0 0 0]   \n",
      "[0 0 0 5]   \n",
      "[0 0 7 7]   \n",
      "[0 0 0 0]   \n",
      "[0 0 0 0]   \n",
      "[0 0 0 0]   \n",
      "[0 0 0 0]   \n",
      "[0 0 0 3]   \n",
      "[0 0 4 6]   \n",
      "[0 0 0 0]   \n"
     ]
    }
   ],
   "source": [
    "for satir in giris:\n",
    "    print(satir, \"  \",)"
   ]
  },
  {
   "cell_type": "markdown",
   "id": "lonely-string",
   "metadata": {},
   "source": [
    "### Word Embedding"
   ]
  },
  {
   "cell_type": "markdown",
   "id": "electoral-hostel",
   "metadata": {},
   "source": [
    "- One-hot encoding'den farklı olarak word embedding veriden öğrenir.\n",
    "- 256,512 gibi boyutlarda vektörlerle karşılaşılır. Oysa one-hot encoding de 20000 ve daha büyük vektörler karşımıza çıkabilir.\n",
    "- Word embedding çok daha fazla bilgiyi küçük boyuta sıkıştırır.\n",
    "- Elde etmenin iki yolu vardır.\n",
    "    - Ana görevle birlikte elde etmek\n",
    "    - pre-trained modelden elde etmek\n",
    "- Gömülme uzayının sabit bir yapısallığı yoktur. Siyah ve kara kelimeleri farklı gömülmelerle sonuçlanabilir.\n",
    "- Eş anlamlı kelimelerin arasındaki mesafe yakın olmalı. Yönler de gömülme uzayında anlamlı olmalı.\n",
    "- Vektör gösterimleri ile kelimeler arasındaki anlamsal ilişkiler geometrik olarak kodlanabilir.\n",
    "\n",
    "![](imgs_lstm/2.png)\n",
    "\n",
    "- Cinsiyet vektörü, Çoğul vektörü gibi vektörler de olabilir. Bu sayede kelime uzayı, anlamlı faydalı olur. Örn: Dişi vektörünü kral vektörüne eklerseniz kraliçe olur.\n",
    "- Anlamsal ilişkiler görevden göreve farklılık gösterir.\n",
    "- Her yeni görev için yeni embedding öğrenmek faydalı olur."
   ]
  },
  {
   "cell_type": "code",
   "execution_count": null,
   "id": "representative-westminster",
   "metadata": {},
   "outputs": [],
   "source": [
    "from keras.layers import Embedding\n",
    "embedding_layer=Embedding(1000, 64) #En az iki parametre, Maksimum Token sayısı, gömülme boyutu (2B Tensor)"
   ]
  },
  {
   "cell_type": "markdown",
   "id": "united-isaac",
   "metadata": {},
   "source": [
    "- Embedding katmanı, tam sayı indeksleri vektörlere eşler.\n",
    "- Tam sayı girdileri alır, kendi sözlüğüne bakarak ilişkili vektörü döndürür. Sözlükte aramak gibi\n",
    "\n",
    "![](imgs_lstm/5.png)"
   ]
  },
  {
   "cell_type": "markdown",
   "id": "extraordinary-consistency",
   "metadata": {},
   "source": [
    "### Örnek"
   ]
  },
  {
   "cell_type": "code",
   "execution_count": 42,
   "id": "prescription-manitoba",
   "metadata": {},
   "outputs": [
    {
     "name": "stderr",
     "output_type": "stream",
     "text": [
      "<__array_function__ internals>:5: VisibleDeprecationWarning: Creating an ndarray from ragged nested sequences (which is a list-or-tuple of lists-or-tuples-or ndarrays with different lengths or shapes) is deprecated. If you meant to do this, you must specify 'dtype=object' when creating the ndarray\n",
      "c:\\users\\hppc\\appdata\\local\\programs\\python\\python38\\lib\\site-packages\\tensorflow\\python\\keras\\datasets\\imdb.py:159: VisibleDeprecationWarning: Creating an ndarray from ragged nested sequences (which is a list-or-tuple of lists-or-tuples-or ndarrays with different lengths or shapes) is deprecated. If you meant to do this, you must specify 'dtype=object' when creating the ndarray\n",
      "  x_train, y_train = np.array(xs[:idx]), np.array(labels[:idx])\n",
      "c:\\users\\hppc\\appdata\\local\\programs\\python\\python38\\lib\\site-packages\\tensorflow\\python\\keras\\datasets\\imdb.py:160: VisibleDeprecationWarning: Creating an ndarray from ragged nested sequences (which is a list-or-tuple of lists-or-tuples-or ndarrays with different lengths or shapes) is deprecated. If you meant to do this, you must specify 'dtype=object' when creating the ndarray\n",
      "  x_test, y_test = np.array(xs[idx:]), np.array(labels[idx:])\n"
     ]
    }
   ],
   "source": [
    "from keras.datasets import imdb\n",
    "from keras import preprocessing\n",
    "\n",
    "max_features = 10000 # Yalnızca en iyi 10 bin kelimeyi göz önünde bulundur\n",
    "maxlen = 300 # Her film incelemesinin yalnızca ilk 300 kelimesini dikkate al\n",
    "\n",
    "(x_train, y_train), (x_test, y_test) = imdb.load_data(num_words =max_features) # loads the data as list of integers\n",
    "\n",
    "#Tam sayı listesini 2B tamsayı tensörüne dönüştür (sample, maxlen)\n",
    "x_train = preprocessing.sequence.pad_sequences(x_train, maxlen=maxlen) \n",
    "x_test = preprocessing.sequence.pad_sequences(x_test, maxlen=maxlen) "
   ]
  },
  {
   "cell_type": "code",
   "execution_count": 47,
   "id": "amended-selling",
   "metadata": {},
   "outputs": [
    {
     "name": "stdout",
     "output_type": "stream",
     "text": [
      "Model: \"sequential_2\"\n",
      "_________________________________________________________________\n",
      "Layer (type)                 Output Shape              Param #   \n",
      "=================================================================\n",
      "embedding_2 (Embedding)      (None, 300, 8)            80000     \n",
      "_________________________________________________________________\n",
      "flatten_2 (Flatten)          (None, 2400)              0         \n",
      "_________________________________________________________________\n",
      "dense_3 (Dense)              (None, 1)                 2401      \n",
      "=================================================================\n",
      "Total params: 82,401\n",
      "Trainable params: 82,401\n",
      "Non-trainable params: 0\n",
      "_________________________________________________________________\n"
     ]
    }
   ],
   "source": [
    "from keras.layers import Embedding\n",
    "from keras.models import Sequential\n",
    "from keras.layers import Flatten, Dense\n",
    "\n",
    "model = Sequential()\n",
    "model.add(Embedding(10000, 8, input_length = maxlen)) \n",
    "\n",
    "# https://keras.io/layers/embeddings/'den Embedding(input_dim, output_dim,..., input_length)\n",
    "# input_dim: maxfeatures\n",
    "# output_dim: Her kelime, bu durumda 8 elemanlı bir vektöre eşlenecektir.\n",
    "# input_length: maxlen\n",
    "\n",
    "model.add(Flatten()) # 3D tensor (samples, maxlen, 8) => 2D tensor (samples,maxlen*8)\n",
    "\n",
    "model.add(Dense(1, activation=\"sigmoid\")) \n",
    "model.compile(optimizer=\"rmsprop\", loss=\"binary_crossentropy\", metrics=[\"acc\"])\n",
    "model.summary()"
   ]
  },
  {
   "cell_type": "markdown",
   "id": "boolean-eclipse",
   "metadata": {},
   "source": [
    "- Parametre sayısı:\n",
    "     - Embedding =  10.000 x 8 = 80.000\n",
    "     - Dense  = 300 x 8 + 1 =2.401\n",
    "     - Toplam = 82.401"
   ]
  },
  {
   "cell_type": "code",
   "execution_count": 48,
   "id": "approved-matthew",
   "metadata": {},
   "outputs": [
    {
     "name": "stdout",
     "output_type": "stream",
     "text": [
      "Epoch 1/20\n",
      "625/625 [==============================] - 4s 5ms/step - loss: 0.6653 - acc: 0.5827 - val_loss: 0.4038 - val_acc: 0.8404\n",
      "Epoch 2/20\n",
      "625/625 [==============================] - 2s 4ms/step - loss: 0.3370 - acc: 0.8775 - val_loss: 0.2925 - val_acc: 0.8812\n",
      "Epoch 3/20\n",
      "625/625 [==============================] - 2s 3ms/step - loss: 0.2305 - acc: 0.9133 - val_loss: 0.2743 - val_acc: 0.8872\n",
      "Epoch 4/20\n",
      "625/625 [==============================] - 2s 3ms/step - loss: 0.1951 - acc: 0.9253 - val_loss: 0.2736 - val_acc: 0.8900\n",
      "Epoch 5/20\n",
      "625/625 [==============================] - 2s 3ms/step - loss: 0.1598 - acc: 0.9441 - val_loss: 0.2741 - val_acc: 0.8896\n",
      "Epoch 6/20\n",
      "625/625 [==============================] - 2s 3ms/step - loss: 0.1362 - acc: 0.9526 - val_loss: 0.2860 - val_acc: 0.8878\n",
      "Epoch 7/20\n",
      "625/625 [==============================] - 2s 3ms/step - loss: 0.1180 - acc: 0.9596 - val_loss: 0.2909 - val_acc: 0.8888\n",
      "Epoch 8/20\n",
      "625/625 [==============================] - 2s 3ms/step - loss: 0.1012 - acc: 0.9675 - val_loss: 0.3112 - val_acc: 0.8828\n",
      "Epoch 9/20\n",
      "625/625 [==============================] - 2s 3ms/step - loss: 0.0885 - acc: 0.9709 - val_loss: 0.3212 - val_acc: 0.8860\n",
      "Epoch 10/20\n",
      "625/625 [==============================] - 2s 3ms/step - loss: 0.0731 - acc: 0.9760 - val_loss: 0.3321 - val_acc: 0.8832\n",
      "Epoch 11/20\n",
      "625/625 [==============================] - 2s 3ms/step - loss: 0.0611 - acc: 0.9813 - val_loss: 0.3476 - val_acc: 0.8814\n",
      "Epoch 12/20\n",
      "625/625 [==============================] - 3s 4ms/step - loss: 0.0545 - acc: 0.9837 - val_loss: 0.3704 - val_acc: 0.8742\n",
      "Epoch 13/20\n",
      "625/625 [==============================] - 2s 4ms/step - loss: 0.0442 - acc: 0.9870 - val_loss: 0.3944 - val_acc: 0.8728\n",
      "Epoch 14/20\n",
      "625/625 [==============================] - 2s 4ms/step - loss: 0.0368 - acc: 0.9902 - val_loss: 0.3996 - val_acc: 0.8746\n",
      "Epoch 15/20\n",
      "625/625 [==============================] - 2s 4ms/step - loss: 0.0288 - acc: 0.9920 - val_loss: 0.4220 - val_acc: 0.8754\n",
      "Epoch 16/20\n",
      "625/625 [==============================] - 2s 4ms/step - loss: 0.0243 - acc: 0.9933 - val_loss: 0.4402 - val_acc: 0.8746\n",
      "Epoch 17/20\n",
      "625/625 [==============================] - 2s 4ms/step - loss: 0.0185 - acc: 0.9956 - val_loss: 0.4592 - val_acc: 0.8722\n",
      "Epoch 18/20\n",
      "625/625 [==============================] - 2s 4ms/step - loss: 0.0158 - acc: 0.9959 - val_loss: 0.4862 - val_acc: 0.8722\n",
      "Epoch 19/20\n",
      "625/625 [==============================] - 2s 4ms/step - loss: 0.0125 - acc: 0.9965 - val_loss: 0.5068 - val_acc: 0.8698\n",
      "Epoch 20/20\n",
      "625/625 [==============================] - 2s 4ms/step - loss: 0.0100 - acc: 0.9979 - val_loss: 0.5366 - val_acc: 0.8660\n"
     ]
    }
   ],
   "source": [
    "history = model.fit(x_train, y_train, epochs=20, batch_size=32, validation_split=0.2)"
   ]
  },
  {
   "cell_type": "code",
   "execution_count": 49,
   "id": "unknown-wrestling",
   "metadata": {},
   "outputs": [
    {
     "data": {
      "image/png": "[encoded data removed]",
      "text/plain": [
       "<Figure size 432x288 with 1 Axes>"
      ]
     },
     "metadata": {
      "needs_background": "light"
     },
     "output_type": "display_data"
    },
    {
     "data": {
      "image/png": "[encoded data removed]",
      "text/plain": [
       "<Figure size 432x288 with 1 Axes>"
      ]
     },
     "metadata": {
      "needs_background": "light"
     },
     "output_type": "display_data"
    }
   ],
   "source": [
    "import matplotlib.pyplot as plt\n",
    "\n",
    "acc = history.history[\"acc\"] # Training accuracy\n",
    "val_acc = history.history[\"val_acc\"] # Validation accuracy\n",
    "loss = history.history[\"loss\"] # Training loss\n",
    "val_loss = history.history[\"val_loss\"] # Validation loss\n",
    "\n",
    "epochs = range(1, len(acc) + 1) #plots every epoch, here 10\n",
    "\n",
    "plt.plot(epochs, acc, \"bo\", label = \"Training acc\") # \"bo\" gives dot plot\n",
    "plt.plot(epochs, val_acc, \"b\", label = \"Validation acc\") # \"b\" gives line plot\n",
    "plt.title(\"Training and validation accuracy\")\n",
    "plt.legend()\n",
    "plt.figure()\n",
    "\n",
    "plt.plot(epochs, loss, \"bo\", label = \"Training loss\")\n",
    "plt.plot(epochs, val_loss, \"b\", label = \"Validation loss\")\n",
    "plt.title(\"Training and validation loss\")\n",
    "plt.legend()\n",
    "\n",
    "plt.show()"
   ]
  },
  {
   "cell_type": "code",
   "execution_count": 50,
   "id": "another-villa",
   "metadata": {},
   "outputs": [
    {
     "name": "stdout",
     "output_type": "stream",
     "text": [
      "Test results - Loss: 0.556236743927002 - Accuracy: 85.69999933242798%\n"
     ]
    }
   ],
   "source": [
    "test_results = model.evaluate(x_test, y_test, verbose=False)\n",
    "print(f'Test results - Loss: {test_results[0]} - Accuracy: {100*test_results[1]}%')"
   ]
  },
  {
   "cell_type": "markdown",
   "id": "freelance-civilization",
   "metadata": {},
   "source": [
    "### Pre-Trained Embedding"
   ]
  },
  {
   "cell_type": "markdown",
   "id": "former-lawsuit",
   "metadata": {},
   "source": [
    "- Elimizdeki eğitim verisi küçük olduğunda görev özelinde en uygun gömülmeyi bulmak mümkün olmayabilir.\n",
    "- Bu durumda gömülmeleri elimizdeki problem yerine dilin jenerik yapısını kavramış kullanışlı özellikler sunan önceden hesaplanmış gömülmeler kullanılabilir.\n",
    "- En meşhurlar, WordVec, GloVe, \n",
    "- GloVe kelime birlikte görülme istatistik matrisini çarpanlarına ayırmaya dayanmaktadır. "
   ]
  },
  {
   "cell_type": "code",
   "execution_count": 52,
   "id": "relative-queue",
   "metadata": {},
   "outputs": [],
   "source": [
    "import os\n",
    "\n",
    "imdb_dir = \"imdb\"\n",
    "train_dir = os.path.join(imdb_dir, \"train\")\n",
    "\n",
    "labels = []\n",
    "texts = []\n",
    "\n",
    "for label_type in [\"neg\", \"pos\"]:\n",
    "    dir_name = os.path.join(train_dir, label_type)\n",
    "    for fname in os.listdir(dir_name):\n",
    "        if fname [-4:] == \".txt\":\n",
    "            f = open(os.path.join(dir_name, fname), encoding='utf-8')\n",
    "            texts.append(f.read())\n",
    "            f.close()\n",
    "            if label_type == \"neg\":\n",
    "                labels.append(0)\n",
    "            else:\n",
    "                labels.append(1)          "
   ]
  },
  {
   "cell_type": "code",
   "execution_count": 53,
   "id": "commercial-aerospace",
   "metadata": {},
   "outputs": [
    {
     "name": "stdout",
     "output_type": "stream",
     "text": [
      "['.ipynb_checkpoints', '01 ders.ipynb', '02 ders.ipynb', '03 ders.ipynb', '03_ ders.ipynb', '04 ders.ipynb', '05 ders.ipynb', '06 Ders.ipynb', '07 ders.ipynb', '08 Ders.ipynb', 'Backpropagation.ipynb', 'catsdogs', 'cnn', 'convnet_from.keras', 'convnet_with_augmentation.keras', 'evraklar', 'feature_extraction.keras', 'feature_extraction_with_data_augmentation.keras', 'imdb', 'imgs', 'imgs-conv', 'imgs-rnn', 'imgs_lstm', 'NN-Plot-master', 'NN.ipynb', 'pre_trained_glove_model.h5', 'train']\n"
     ]
    }
   ],
   "source": [
    "from os import listdir\n",
    "\n",
    "print(os.listdir())"
   ]
  },
  {
   "cell_type": "markdown",
   "id": "related-context",
   "metadata": {},
   "source": [
    "### Tokenize"
   ]
  },
  {
   "cell_type": "code",
   "execution_count": 54,
   "id": "synthetic-melbourne",
   "metadata": {},
   "outputs": [
    {
     "name": "stdout",
     "output_type": "stream",
     "text": [
      "Found 88582 unique tokens.\n",
      "Shape of data tensor: (25000, 100)\n",
      "Shape of label tensor: (25000,)\n"
     ]
    }
   ],
   "source": [
    "from keras.preprocessing.text import Tokenizer\n",
    "from keras.preprocessing. sequence import pad_sequences\n",
    "import numpy as np\n",
    "\n",
    "maxlen = 100 # 100 kelimeden sonrasını kes\n",
    "training_samples = 2000 # 200 örnekle eğitilecek \n",
    "validation_samples = 100 # Validates o 10000 samples\n",
    "max_words = 10000 \n",
    "\n",
    "tokenizer = Tokenizer(num_words=max_words)\n",
    "tokenizer.fit_on_texts(texts)\n",
    "sequences = tokenizer.texts_to_sequences(texts)\n",
    "word_index = tokenizer.word_index                   # Length: 88582\n",
    "print(\"Found %s unique tokens.\" % len(word_index))\n",
    "\n",
    "data = pad_sequences(sequences, maxlen=maxlen)\n",
    "\n",
    "labels = np.asarray(labels)\n",
    "print(\"Shape of data tensor:\", data.shape)\n",
    "print(\"Shape of label tensor:\", labels.shape)\n",
    "\n",
    "# Veri karıştırılıyor, yoksa önce olumsuzlar sonra olumlular gelebilir\n",
    "indices = np.arange(data.shape[0])  \n",
    "np.random.shuffle(indices)\n",
    "data = data[indices]\n",
    "labels = labels[indices]\n",
    "\n",
    "x_train = data[:training_samples] # (200, 100)\n",
    "y_train = labels[:training_samples] # shape (200,)\n",
    "x_val = data[training_samples:training_samples+validation_samples] # shape (10000, 100)\n",
    "y_val = labels[training_samples:training_samples+validation_samples] # shape (10000,)"
   ]
  },
  {
   "cell_type": "code",
   "execution_count": 55,
   "id": "abandoned-dispute",
   "metadata": {},
   "outputs": [
    {
     "name": "stdout",
     "output_type": "stream",
     "text": [
      "found 400000 word vectors.\n"
     ]
    }
   ],
   "source": [
    "glove_dir = \"imdb\"\n",
    "\n",
    "embeddings_index = {}\n",
    "\n",
    "f = open(os.path.join(glove_dir, \"glove.6B.100d.txt\"), encoding='utf-8') \n",
    "for line in f:\n",
    "    values = line.split()\n",
    "    word = values[0]\n",
    "    coefs = np.asarray(values[1:], dtype=\"float32\")\n",
    "    embeddings_index[word] = coefs\n",
    "f.close()\n",
    "\n",
    "print(\"found %s word vectors.\" % len (embeddings_index))"
   ]
  },
  {
   "cell_type": "markdown",
   "id": "demanding-puppy",
   "metadata": {},
   "source": [
    "### Embedding Önişlem"
   ]
  },
  {
   "cell_type": "code",
   "execution_count": 56,
   "id": "civilian-knitting",
   "metadata": {},
   "outputs": [],
   "source": [
    "embedding_dim = 100 # GloVe, 400.000 kelime için 100 boyutlu Embedding vektörleri içerir\n",
    "\n",
    "embedding_matrix = np.zeros((max_words, embedding_dim)) # embedding_matrix.shape (10000, 100)\n",
    "for word, i in word_index.items():\n",
    "    if i < max_words:\n",
    "        embedding_vector = embeddings_index.get(word) # embedding_vector.shape (100,)\n",
    "        if embedding_vector is not None:\n",
    "            embedding_matrix[i] = embedding_vector # Yerleştirme dizininde bulunmayan kelimelerin tümü sıfır olacaktır."
   ]
  },
  {
   "cell_type": "code",
   "execution_count": 58,
   "id": "atomic-palestine",
   "metadata": {},
   "outputs": [
    {
     "data": {
      "text/plain": [
       "(10000, 100)"
      ]
     },
     "execution_count": 58,
     "metadata": {},
     "output_type": "execute_result"
    }
   ],
   "source": [
    "embedding_matrix.shape"
   ]
  },
  {
   "cell_type": "markdown",
   "id": "civil-graham",
   "metadata": {},
   "source": [
    "### Model"
   ]
  },
  {
   "cell_type": "code",
   "execution_count": 59,
   "id": "blond-cedar",
   "metadata": {},
   "outputs": [
    {
     "name": "stdout",
     "output_type": "stream",
     "text": [
      "Model: \"sequential_3\"\n",
      "_________________________________________________________________\n",
      "Layer (type)                 Output Shape              Param #   \n",
      "=================================================================\n",
      "embedding_3 (Embedding)      (None, 100, 100)          1000000   \n",
      "_________________________________________________________________\n",
      "flatten_3 (Flatten)          (None, 10000)             0         \n",
      "_________________________________________________________________\n",
      "dense_4 (Dense)              (None, 32)                320032    \n",
      "_________________________________________________________________\n",
      "dense_5 (Dense)              (None, 1)                 33        \n",
      "=================================================================\n",
      "Total params: 1,320,065\n",
      "Trainable params: 1,320,065\n",
      "Non-trainable params: 0\n",
      "_________________________________________________________________\n"
     ]
    }
   ],
   "source": [
    "from keras.models import Sequential\n",
    "from keras.layers import Embedding, Flatten, Dense\n",
    "\n",
    "model = Sequential()\n",
    "model.add(Embedding(max_words, embedding_dim, input_length = maxlen)) \n",
    "model.add(Flatten()) \n",
    "model.add(Dense(32, activation = \"relu\"))\n",
    "model.add(Dense(1, activation=\"sigmoid\")) \n",
    "model.summary()"
   ]
  },
  {
   "cell_type": "markdown",
   "id": "foster-gossip",
   "metadata": {},
   "source": [
    "- Parametre Sayısı\n",
    "    - Embedding = 10.000 x 100 = 1.000.000\n",
    "    - Dense= 32 x 10.000 + (32 x 1) = 320.032\n",
    "    - Dense= batch + 1\n",
    "    - Toplam= 1.320.065\n",
    "\n",
    "- Gömme katmanı artık tek bir ağırlık matrisine sahiptir: her i girişinin i indeksi ile ilişkilendirilmiştir."
   ]
  },
  {
   "cell_type": "markdown",
   "id": "desirable-drain",
   "metadata": {},
   "source": [
    "### Embeddingleri modele gönderme"
   ]
  },
  {
   "cell_type": "code",
   "execution_count": 60,
   "id": "planned-elevation",
   "metadata": {},
   "outputs": [],
   "source": [
    "model.layers[0].set_weights([embedding_matrix])\n",
    "model.layers[0].trainable = True "
   ]
  },
  {
   "cell_type": "markdown",
   "id": "solar-midnight",
   "metadata": {},
   "source": [
    "- Hazırlanan GloVe matrisi modelin ilk katmanı olan Embeddinge yükleniyor.\n",
    "- Modelin bazı bölümleri öneğitimli bazı bölümleri rasgele başlamışsa geri yayılımda öneğitimli bölgelerin güncelleme almaması ve öğrendiklerini unutmaması için dondurulur."
   ]
  },
  {
   "cell_type": "code",
   "execution_count": 61,
   "id": "received-fence",
   "metadata": {
    "scrolled": true
   },
   "outputs": [
    {
     "name": "stdout",
     "output_type": "stream",
     "text": [
      "Epoch 1/10\n",
      "7/7 [==============================] - 3s 218ms/step - loss: 1.7368 - acc: 0.5363 - val_loss: 1.3569 - val_acc: 0.4999\n",
      "Epoch 2/10\n",
      "7/7 [==============================] - 1s 164ms/step - loss: 0.7408 - acc: 0.5849 - val_loss: 0.8224 - val_acc: 0.5106\n",
      "Epoch 3/10\n",
      "7/7 [==============================] - 1s 176ms/step - loss: 0.5156 - acc: 0.7886 - val_loss: 0.6908 - val_acc: 0.5571\n",
      "Epoch 4/10\n",
      "7/7 [==============================] - 1s 165ms/step - loss: 0.3041 - acc: 0.8987 - val_loss: 0.7264 - val_acc: 0.5574\n",
      "Epoch 5/10\n",
      "7/7 [==============================] - 1s 165ms/step - loss: 0.2847 - acc: 0.8716 - val_loss: 0.8558 - val_acc: 0.5324\n",
      "Epoch 6/10\n",
      "7/7 [==============================] - 1s 167ms/step - loss: 0.1469 - acc: 0.9720 - val_loss: 1.2226 - val_acc: 0.5036\n",
      "Epoch 7/10\n",
      "7/7 [==============================] - 1s 168ms/step - loss: 0.1169 - acc: 0.9675 - val_loss: 0.7552 - val_acc: 0.5691\n",
      "Epoch 8/10\n",
      "7/7 [==============================] - 1s 166ms/step - loss: 0.0459 - acc: 0.9968 - val_loss: 2.4520 - val_acc: 0.5003\n",
      "Epoch 9/10\n",
      "7/7 [==============================] - 1s 167ms/step - loss: 0.4175 - acc: 0.7368 - val_loss: 0.7988 - val_acc: 0.5731\n",
      "Epoch 10/10\n",
      "7/7 [==============================] - 1s 188ms/step - loss: 0.0168 - acc: 1.0000 - val_loss: 0.7980 - val_acc: 0.5809\n"
     ]
    }
   ],
   "source": [
    "model.compile(optimizer = \"rmsprop\", \n",
    "              loss = \"binary_crossentropy\", # in a multiclass problem categorical_crossentropy would be used\n",
    "              metrics = [\"acc\"]) \n",
    "history = model.fit(x_train, y_train,\n",
    "                   epochs = 10,\n",
    "                   batch_size = 32,\n",
    "                   validation_data = (x_val, y_val))\n",
    "model.save_weights(\"pre_trained_glove_model.h5\")      "
   ]
  },
  {
   "cell_type": "code",
   "execution_count": 62,
   "id": "rural-sixth",
   "metadata": {},
   "outputs": [
    {
     "data": {
      "image/png": "[encoded data removed]",
      "text/plain": [
       "<Figure size 432x288 with 1 Axes>"
      ]
     },
     "metadata": {
      "needs_background": "light"
     },
     "output_type": "display_data"
    },
    {
     "data": {
      "image/png": "[encoded data removed]",
      "text/plain": [
       "<Figure size 432x288 with 1 Axes>"
      ]
     },
     "metadata": {
      "needs_background": "light"
     },
     "output_type": "display_data"
    }
   ],
   "source": [
    "import matplotlib.pyplot as plt\n",
    "\n",
    "plt.plot(history.history[\"acc\"], \"bo\", label = \"Training acc\") # \"bo\" gives dot plot\n",
    "plt.plot(history.history[\"val_acc\"], \"b\", label = \"Validation acc\") # \"b\" gives line plot\n",
    "plt.title(\"Training and validation accuracy\")\n",
    "plt.legend()\n",
    "plt.figure()\n",
    "\n",
    "plt.plot(history.history[\"loss\"], \"bo\", label = \"Training loss\")\n",
    "plt.plot(history.history[\"val_loss\"], \"b\", label = \"Validation loss\")\n",
    "plt.title(\"Training and validation loss\")\n",
    "plt.legend()\n",
    "\n",
    "plt.show()"
   ]
  },
  {
   "cell_type": "markdown",
   "id": "transsexual-republican",
   "metadata": {},
   "source": [
    "### Test"
   ]
  },
  {
   "cell_type": "code",
   "execution_count": 64,
   "id": "rotary-producer",
   "metadata": {},
   "outputs": [],
   "source": [
    "import os\n",
    "\n",
    "imdb_dir = \"imdb\"\n",
    "train_dir = os.path.join(imdb_dir, \"test\")\n",
    "\n",
    "labels = []\n",
    "texts = []\n",
    "\n",
    "for label_type in [\"neg\", \"pos\"]:\n",
    "    dir_name = os.path.join(train_dir, label_type)\n",
    "    for fname in os.listdir(dir_name):\n",
    "        if fname [-4:] == \".txt\":\n",
    "            f = open(os.path.join(dir_name, fname), encoding='utf-8')\n",
    "            texts.append(f.read())\n",
    "            f.close()\n",
    "            if label_type == \"neg\":\n",
    "                labels.append(0)\n",
    "            else:\n",
    "                labels.append(1)     "
   ]
  },
  {
   "cell_type": "code",
   "execution_count": 65,
   "id": "danish-layer",
   "metadata": {},
   "outputs": [],
   "source": [
    "sequences = tokenizer.texts_to_sequences(texts)\n",
    "x_test = pad_sequences(sequences, maxlen=maxlen)\n",
    "y_test = np.asarray(labels)"
   ]
  },
  {
   "cell_type": "code",
   "execution_count": 66,
   "id": "greater-dominican",
   "metadata": {},
   "outputs": [
    {
     "name": "stdout",
     "output_type": "stream",
     "text": [
      "782/782 [==============================] - 2s 3ms/step - loss: 0.7991 - acc: 0.5772\n",
      "Test results - Loss: 0.7991190552711487 - Accuracy: 57.71999955177307%\n"
     ]
    }
   ],
   "source": [
    "model.load_weights('pre_trained_glove_model.h5')\n",
    "test_results=model.evaluate(x_test,y_test)\n",
    "print(f'Test results - Loss: {test_results[0]} - Accuracy: {100*test_results[1]}%')"
   ]
  },
  {
   "cell_type": "markdown",
   "id": "competitive-savage",
   "metadata": {},
   "source": []
  },
  {
   "cell_type": "markdown",
   "id": "portuguese-camping",
   "metadata": {},
   "source": []
  }
 ],
 "metadata": {
  "kernelspec": {
   "display_name": "Python 3",
   "language": "python",
   "name": "python3"
  },
  "language_info": {
   "codemirror_mode": {
    "name": "ipython",
    "version": 3
   },
   "file_extension": ".py",
   "mimetype": "text/x-python",
   "name": "python",
   "nbconvert_exporter": "python",
   "pygments_lexer": "ipython3",
   "version": "3.8.8"
  }
 },
 "nbformat": 4,
 "nbformat_minor": 5
}
