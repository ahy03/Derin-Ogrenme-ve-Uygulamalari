{
 "cells": [
  {
   "cell_type": "markdown",
   "id": "conditional-payment",
   "metadata": {},
   "source": [
    "# Yinelemeli Sinir Ağlarını Anlamak (RNN-LSTM-GRU)"
   ]
  },
  {
   "cell_type": "markdown",
   "id": "current-cliff",
   "metadata": {},
   "source": [
    "## RNN"
   ]
  },
  {
   "cell_type": "markdown",
   "id": "modular-discovery",
   "metadata": {},
   "source": [
    "- Şu ana kadar gördüğümüz ağların (CNN-DNN) temel yapısı hafızalarının olmamasıydı\n",
    "- Karşılarına çıkan her girdiyi birbirinden bağımsız işlerler. Girdiler arasında durum bilgisi tutmazlar.\n",
    "- Böyle ağlarla dizileri veya zamana bağlı verileriişlemek isterseniz tüm diziyi ağa tek seferde vermelisiniz. (Daha önce yaptığımız IMDB örneği gibi)\n",
    "- Ancak şu anda okuduğunuz cümleyi aralıklı göz hareketleriyle, öncekileri hafızamızda tutarak, kelime kelime okuyoruz.\n",
    "- İnsan zekası önceki öğrendiği bilgiyi koruyarak yeni bilgileri geldikçe de güncelleyerek işler\n",
    "- RNN aynı prensibin daha basit versiyonunu uygular.\n",
    "- Dizilerin her bir elemanı üzerinde ilerleyerek, o anda öğrendiği bilgiyi durum bilgisi olarak tutarak devam ettirir.\n",
    "- Tüm veriyi bir hamlede değil,iç döngüde eleman eleman işleyerek devam ettirir."
   ]
  },
  {
   "cell_type": "markdown",
   "id": "explicit-begin",
   "metadata": {},
   "source": [
    "![](rnn_lstm_gru/1.png)"
   ]
  },
  {
   "cell_type": "markdown",
   "id": "animal-suicide",
   "metadata": {},
   "source": [
    "- RNN, 2B (timesteps,input) tensörleri girdi olarak alır.\n",
    "- Döngü içerisinde zaman adımı kadar ilerler.\n",
    "- Mevcut durum t ve input kullanarak çıktı t elde eder.\n",
    "- Sonraki durum t, bu adımın çıktısı olur.\n",
    "- İlk adımda önceki durum çıktısı olmadığı için durum bilgisi yoktur. (Tamamı sıfırlardan oluşan Başlangıç durumu)\n",
    "- Son katmanın çıktısı (timesteps, output) şeklindedir.\n",
    "- En basit haliyle her döngü adımında önceki değerleri kullanan bir for döngüsüdür."
   ]
  },
  {
   "cell_type": "markdown",
   "id": "persistent-advocacy",
   "metadata": {},
   "source": [
    "![](rnn_lstm_gru/2.png)"
   ]
  },
  {
   "cell_type": "markdown",
   "id": "loved-helping",
   "metadata": {},
   "source": [
    "- SimpleRNN metin gibi çok uzun dizilerle kullanmak için uygun değildir.\n",
    "- Base model tüm diziyi aldığı için daha çok veriye ulaşıyor."
   ]
  },
  {
   "cell_type": "markdown",
   "id": "comparative-pharmaceutical",
   "metadata": {},
   "source": [
    "## LSTM"
   ]
  },
  {
   "cell_type": "markdown",
   "id": "royal-titanium",
   "metadata": {},
   "source": [
    "- SimpleRNN temel bir eksikliği var.\n",
    "- Teorik olarak t anında önceki tüm adımlardaki girdilerle ilgili bilgiyi tutabilir.\n",
    "- Ancak uygulamada bu kadar uzun süreli gereksinimlerin öğrenilmesi imkansızdır.\n",
    "- Gradyanların yok olması problemi, çok derin ileri ağlarda görüldüğü gibi katman ekledikçe ağın eğitilemez olmasıdır.\n",
    "- Birçok zaman adımının taşınmasını sağlayan bir yol ekler.\n",
    "- Dizideki bir bilgi, bir sonraki adıma ulaştırılır. Tekrar o bilgiye ihtiyaç duyulduğunda eski yerine geçebilir.\n",
    "- Böylece bilgiyi sonra kullanmak için saklarken, gradyanların yok olması probleminden etkilenmesini engeller."
   ]
  },
  {
   "cell_type": "markdown",
   "id": "composite-delay",
   "metadata": {},
   "source": [
    "![](rnn_lstm_gru/3.png)\n",
    "\n",
    "![](rnn_lstm_gru/4.png)"
   ]
  },
  {
   "cell_type": "markdown",
   "id": "disturbed-highland",
   "metadata": {},
   "source": [
    "**Forget Gate:**\n",
    "- Hangi bilginin tutulacağı veya unutulacağına karar verir.\n",
    "- bir sayı 0 ile çarpılırsa ne kadar büyük olursa olsun sonuç 0 olur. \n",
    "- Unutmak için girdinin ağırlığına 0 verilir.\n",
    "- Bir önceki gizli katmandan gelen bilgiler ve güncel bilgiler Sigmoid Fonksiyonundan geçer. \n",
    "- 0'a ne kadar yakınsa o kadar unutulacak, 1'e ne kadar yakınsa o kadar tutulacak demektir.\n",
    "\n",
    "![](rnn_lstm_gru/a.gif)"
   ]
  },
  {
   "cell_type": "markdown",
   "id": "soviet-percentage",
   "metadata": {},
   "source": [
    "**Input Gate (Girdi Kapısı):**\n",
    "- Cell State’i güncellemek için kullanılır. \n",
    "- Öncelikle Forget Gate’de (Unutma Kapısı) olduğu gibi Sigmoid fonksiyonu uygulanır, hangi bilginin tutulacağına karar verilir. \n",
    "- Daha sonra ağı düzenlemek için Tanh fonksiyonu yardımıyla -1,1 arasına indirgenir ve çıkan iki sonuç çarpılır.\n",
    "\n",
    "![](rnn_lstm_gru/b.gif)"
   ]
  },
  {
   "cell_type": "markdown",
   "id": "pacific-moldova",
   "metadata": {},
   "source": [
    "**Cell State:**\n",
    "- Cell State’in hücre içerisindeki en önemli görevi bilgiyi taşımaktır. \n",
    "- Taşınması gereken verileri alır ve hücre sonuna, oradan da diğer hücrelere taşır. \n",
    "- Yani ağ üzerinde veri akışını Cell State yardımıyla sağlarız. \n",
    "- İlk olarak Forget Gate’den (Unutma Kapısı) gelen sonuç ile bir önceki katmanın sonucu çarpılır. \n",
    "- Daha sonra Input Gate’den (Girdi Kapısı) gelen değer ile toplanır.\n",
    "\n",
    "![](rnn_lstm_gru/c.gif)"
   ]
  },
  {
   "cell_type": "markdown",
   "id": "sustainable-cornell",
   "metadata": {},
   "source": [
    "**Output Gate (Çıktı Kapısı):**\n",
    "- Bir sonraki katmana gönderilecek değere karar verir. \n",
    "- Bu değer, tahmin için kullanılır. \n",
    "- Öncelikle bir önceki değer ile şu anki girdi Sigmoid fonksiyonundan geçer. \n",
    "- Cell State’den gelen değer Tanh fonksiyonundan geçtikten sonra iki değer çarpılır ve bir sonraki katmana “Bir önceki değer” olarak gider. Cell State ilerler.\n",
    "\n",
    "![](rnn_lstm_gru/d.gif)"
   ]
  },
  {
   "cell_type": "markdown",
   "id": "sticky-history",
   "metadata": {},
   "source": [
    "## GRU"
   ]
  },
  {
   "cell_type": "markdown",
   "id": "limited-tender",
   "metadata": {},
   "source": [
    "- GRU, yine LSTM gibi Yinelemeli Sinir Ağlarında ortaya çıkan Kaybolan Gradyan Problemini ele alan bir mimaridir. \n",
    "- GRU yine LSTM gibi uzun vadeli bağımlılıkları öğrenme yeteneğine sahiptir. \n",
    "- GRU reset-update kapısına sahiptir fakat LSTM ’den farklı olarak bir çıkış kapısına sahip değildir. \n",
    "- GRU ‘nun aynı zamanda ayrı bir bellek hücresi yoktur.\n",
    "- Bundan dolayı daha az parametreye sahiptir.\n",
    "- Update kapısı; Modele, geçmiş bilgilerin ne kadarının (önceki zaman adımlarından) geleceğe aktarılması gerektiğini belirlemede yardımcı olur\n",
    "- Reset kapısı; Modele, geçmiş bilgilerin ne kadarının unutacağına karar vermede yardımcı olur\n",
    "\n",
    "![](rnn_lstm_gru/5.png)"
   ]
  },
  {
   "cell_type": "markdown",
   "id": "sufficient-curve",
   "metadata": {},
   "source": [
    "## Metrikler"
   ]
  },
  {
   "cell_type": "markdown",
   "id": "empirical-corporation",
   "metadata": {},
   "source": [
    "![](rnn_lstm_gru/6.png)\n",
    "\n",
    "![](rnn_lstm_gru/7.png)\n",
    "\n",
    "![](rnn_lstm_gru/8.png)\n",
    "\n",
    "![](rnn_lstm_gru/9.png)\n",
    "\n",
    "![](rnn_lstm_gru/10.png)\n"
   ]
  },
  {
   "cell_type": "markdown",
   "id": "cutting-metropolitan",
   "metadata": {},
   "source": [
    "### Örnek"
   ]
  },
  {
   "cell_type": "code",
   "execution_count": 2,
   "id": "pediatric-retro",
   "metadata": {},
   "outputs": [
    {
     "name": "stderr",
     "output_type": "stream",
     "text": [
      "<__array_function__ internals>:5: VisibleDeprecationWarning: Creating an ndarray from ragged nested sequences (which is a list-or-tuple of lists-or-tuples-or ndarrays with different lengths or shapes) is deprecated. If you meant to do this, you must specify 'dtype=object' when creating the ndarray\n",
      "c:\\users\\hppc\\appdata\\local\\programs\\python\\python38\\lib\\site-packages\\tensorflow\\python\\keras\\datasets\\imdb.py:159: VisibleDeprecationWarning: Creating an ndarray from ragged nested sequences (which is a list-or-tuple of lists-or-tuples-or ndarrays with different lengths or shapes) is deprecated. If you meant to do this, you must specify 'dtype=object' when creating the ndarray\n",
      "  x_train, y_train = np.array(xs[:idx]), np.array(labels[:idx])\n",
      "c:\\users\\hppc\\appdata\\local\\programs\\python\\python38\\lib\\site-packages\\tensorflow\\python\\keras\\datasets\\imdb.py:160: VisibleDeprecationWarning: Creating an ndarray from ragged nested sequences (which is a list-or-tuple of lists-or-tuples-or ndarrays with different lengths or shapes) is deprecated. If you meant to do this, you must specify 'dtype=object' when creating the ndarray\n",
      "  x_test, y_test = np.array(xs[idx:]), np.array(labels[idx:])\n"
     ]
    }
   ],
   "source": [
    "from keras.datasets import imdb\n",
    "from keras import preprocessing\n",
    "\n",
    "max_features = 10000 # Yalnızca en iyi 10 bin kelimeyi göz önünde bulundur\n",
    "maxlen = 300 # Her film incelemesinin yalnızca ilk 500 kelimesini dikkate al\n",
    "\n",
    "(x_train, y_train), (x_test, y_test) = imdb.load_data(num_words =max_features) # loads the data as list of integers\n",
    "\n",
    "#Tam sayı listesini 2B tamsayı tensörüne dönüştür (sample, maxlen)\n",
    "x_train = preprocessing.sequence.pad_sequences(x_train, maxlen=maxlen) \n",
    "x_test = preprocessing.sequence.pad_sequences(x_test, maxlen=maxlen) "
   ]
  },
  {
   "cell_type": "code",
   "execution_count": 3,
   "id": "figured-booth",
   "metadata": {},
   "outputs": [],
   "source": [
    "import matplotlib.pyplot as plt\n",
    "\n",
    "def plot_history(history):    \n",
    "    plt.plot(history.history['acc'], 'bo', label='Training acc')\n",
    "    plt.plot(history.history['val_acc'], 'b', label='Validation acc')\n",
    "    plt.title('Training and validation accuracy')\n",
    "    plt.legend()\n",
    "    \n",
    "    plt.figure()\n",
    "    \n",
    "    plt.plot(history.history['loss'], 'bo', label='Training loss')\n",
    "    plt.plot(history.history['val_loss'], 'b', label='Validation loss')\n",
    "    plt.title('Training and validation loss')\n",
    "    plt.legend()\n",
    "    plt.show()"
   ]
  },
  {
   "cell_type": "code",
   "execution_count": 6,
   "id": "cheap-senate",
   "metadata": {},
   "outputs": [
    {
     "name": "stdout",
     "output_type": "stream",
     "text": [
      "Model: \"sequential_1\"\n",
      "_________________________________________________________________\n",
      "Layer (type)                 Output Shape              Param #   \n",
      "=================================================================\n",
      "embedding (Embedding)        (None, 300, 128)          1280000   \n",
      "_________________________________________________________________\n",
      "flatten (Flatten)            (None, 38400)             0         \n",
      "_________________________________________________________________\n",
      "dense (Dense)                (None, 32)                1228832   \n",
      "_________________________________________________________________\n",
      "dense_1 (Dense)              (None, 1)                 33        \n",
      "=================================================================\n",
      "Total params: 2,508,865\n",
      "Trainable params: 2,508,865\n",
      "Non-trainable params: 0\n",
      "_________________________________________________________________\n"
     ]
    }
   ],
   "source": [
    "from keras.layers import Embedding\n",
    "from keras.models import Sequential\n",
    "from keras.layers import Flatten, Dense\n",
    "\n",
    "model = Sequential()\n",
    "model.add(Embedding(max_features, 128, input_length=maxlen))\n",
    "model.add(Flatten())\n",
    "model.add(Dense(32, activation='relu'))\n",
    "model.add(Dense(1, activation='sigmoid'))\n",
    "model.compile(optimizer='rmsprop', loss='binary_crossentropy', metrics=['acc'])\n",
    "model.summary()"
   ]
  },
  {
   "cell_type": "code",
   "execution_count": 8,
   "id": "generous-trust",
   "metadata": {},
   "outputs": [
    {
     "name": "stdout",
     "output_type": "stream",
     "text": [
      "Epoch 1/10\n",
      "782/782 [==============================] - 44s 53ms/step - loss: 0.5446 - acc: 0.6748 - val_loss: 0.3243 - val_acc: 0.8574\n",
      "Epoch 2/10\n",
      "782/782 [==============================] - 40s 51ms/step - loss: 0.1072 - acc: 0.9628 - val_loss: 0.4229 - val_acc: 0.8530\n",
      "Epoch 3/10\n",
      "782/782 [==============================] - 40s 51ms/step - loss: 0.0117 - acc: 0.9963 - val_loss: 0.7297 - val_acc: 0.8380\n",
      "Epoch 4/10\n",
      "782/782 [==============================] - 40s 52ms/step - loss: 8.1856e-04 - acc: 0.9998 - val_loss: 0.9682 - val_acc: 0.8343\n",
      "Epoch 5/10\n",
      "782/782 [==============================] - 41s 52ms/step - loss: 1.0079e-04 - acc: 0.9999 - val_loss: 1.1037 - val_acc: 0.8374\n",
      "Epoch 6/10\n",
      "782/782 [==============================] - 41s 52ms/step - loss: 4.6514e-06 - acc: 1.0000 - val_loss: 1.2550 - val_acc: 0.8378\n",
      "Epoch 7/10\n",
      "782/782 [==============================] - 41s 53ms/step - loss: 6.0888e-08 - acc: 1.0000 - val_loss: 1.3589 - val_acc: 0.8400\n",
      "Epoch 8/10\n",
      "782/782 [==============================] - 42s 54ms/step - loss: 2.0613e-09 - acc: 1.0000 - val_loss: 1.3736 - val_acc: 0.8404\n",
      "Epoch 9/10\n",
      "782/782 [==============================] - 42s 54ms/step - loss: 1.0468e-09 - acc: 1.0000 - val_loss: 1.3810 - val_acc: 0.8394\n",
      "Epoch 10/10\n",
      "782/782 [==============================] - 42s 54ms/step - loss: 2.2161e-09 - acc: 1.0000 - val_loss: 1.4017 - val_acc: 0.8395\n"
     ]
    }
   ],
   "source": [
    "history = model.fit(x_train, y_train,\n",
    "                   epochs=10,\n",
    "                   batch_size=32,\n",
    "                   validation_data=(x_test, y_test))"
   ]
  },
  {
   "cell_type": "code",
   "execution_count": 12,
   "id": "marked-stress",
   "metadata": {},
   "outputs": [
    {
     "data": {
      "image/png": "[encoded data removed]",
      "text/plain": [
       "<Figure size 432x288 with 1 Axes>"
      ]
     },
     "metadata": {
      "needs_background": "light"
     },
     "output_type": "display_data"
    },
    {
     "data": {
      "image/png": "[encoded data removed]",
      "text/plain": [
       "<Figure size 432x288 with 1 Axes>"
      ]
     },
     "metadata": {
      "needs_background": "light"
     },
     "output_type": "display_data"
    }
   ],
   "source": [
    "plot_history(history)"
   ]
  },
  {
   "cell_type": "code",
   "execution_count": 20,
   "id": "hundred-bulletin",
   "metadata": {},
   "outputs": [
    {
     "name": "stdout",
     "output_type": "stream",
     "text": [
      "782/782 [==============================] - 5s 6ms/step - loss: 1.4017 - acc: 0.8395\n"
     ]
    },
    {
     "data": {
      "text/plain": [
       "[1.401659369468689, 0.8395199775695801]"
      ]
     },
     "execution_count": 20,
     "metadata": {},
     "output_type": "execute_result"
    }
   ],
   "source": [
    "model.evaluate(x_test, y_test)"
   ]
  },
  {
   "cell_type": "code",
   "execution_count": 17,
   "id": "golden-picture",
   "metadata": {},
   "outputs": [
    {
     "name": "stdout",
     "output_type": "stream",
     "text": [
      "Model: \"sequential_5\"\n",
      "_________________________________________________________________\n",
      "Layer (type)                 Output Shape              Param #   \n",
      "=================================================================\n",
      "embedding_4 (Embedding)      (None, 300, 32)           320000    \n",
      "_________________________________________________________________\n",
      "simple_rnn (SimpleRNN)       (None, 32)                2080      \n",
      "_________________________________________________________________\n",
      "dense_2 (Dense)              (None, 1)                 33        \n",
      "=================================================================\n",
      "Total params: 322,113\n",
      "Trainable params: 322,113\n",
      "Non-trainable params: 0\n",
      "_________________________________________________________________\n"
     ]
    }
   ],
   "source": [
    "from keras.layers import SimpleRNN\n",
    "\n",
    "simple_rnn = Sequential()\n",
    "simple_rnn.add(Embedding(max_features, 32, input_length=maxlen))\n",
    "simple_rnn.add(SimpleRNN(32))\n",
    "simple_rnn.add(Dense(1, activation='sigmoid'))\n",
    "simple_rnn.compile(optimizer='rmsprop', loss='binary_crossentropy', metrics=['acc'])\n",
    "simple_rnn.summary()"
   ]
  },
  {
   "cell_type": "code",
   "execution_count": 18,
   "id": "offensive-stage",
   "metadata": {},
   "outputs": [
    {
     "name": "stdout",
     "output_type": "stream",
     "text": [
      "Epoch 1/10\n",
      "196/196 [==============================] - 25s 120ms/step - loss: 0.6462 - acc: 0.5978 - val_loss: 0.4347 - val_acc: 0.8106\n",
      "Epoch 2/10\n",
      "196/196 [==============================] - 23s 116ms/step - loss: 0.3771 - acc: 0.8430 - val_loss: 0.4214 - val_acc: 0.8254\n",
      "Epoch 3/10\n",
      "196/196 [==============================] - 22s 114ms/step - loss: 0.2936 - acc: 0.8821 - val_loss: 0.3713 - val_acc: 0.8379\n",
      "Epoch 4/10\n",
      "196/196 [==============================] - 22s 114ms/step - loss: 0.2332 - acc: 0.9119 - val_loss: 0.4211 - val_acc: 0.8059\n",
      "Epoch 5/10\n",
      "196/196 [==============================] - 23s 119ms/step - loss: 0.1897 - acc: 0.9275 - val_loss: 0.4105 - val_acc: 0.8242\n",
      "Epoch 6/10\n",
      "196/196 [==============================] - 24s 121ms/step - loss: 0.1426 - acc: 0.9479 - val_loss: 0.3944 - val_acc: 0.8523\n",
      "Epoch 7/10\n",
      "196/196 [==============================] - 24s 122ms/step - loss: 0.1113 - acc: 0.9600 - val_loss: 0.4723 - val_acc: 0.8432\n",
      "Epoch 8/10\n",
      "196/196 [==============================] - 24s 123ms/step - loss: 0.0792 - acc: 0.9726 - val_loss: 0.5295 - val_acc: 0.80070758 - - ETA: 6s - loss: 0.0 - ETA: 5s - loss: - ETA: 3s - l - ETA: 0s - loss: 0.0790 - ac\n",
      "Epoch 9/10\n",
      "196/196 [==============================] - 24s 124ms/step - loss: 0.0606 - acc: 0.9801 - val_loss: 0.5990 - val_acc: 0.799101 - acc: 0 - ETA: 1s - loss: 0.0602 - acc: 0.980 - ETA: 1s - loss: 0.0603\n",
      "Epoch 10/10\n",
      "196/196 [==============================] - 25s 126ms/step - loss: 0.0426 - acc: 0.9869 - val_loss: 0.6631 - val_acc: 0.7894oss: 0.0424 - acc: 0. - ETA: 1s - loss: 0.0425 \n"
     ]
    }
   ],
   "source": [
    "simple_rnn_history = simple_rnn.fit(x_train, y_train,\n",
    "                                   epochs=10,\n",
    "                                   batch_size=128,\n",
    "                                   validation_data=(x_test, y_test))"
   ]
  },
  {
   "cell_type": "code",
   "execution_count": 19,
   "id": "demonstrated-safety",
   "metadata": {},
   "outputs": [
    {
     "data": {
      "image/png": "[encoded data removed]",
      "text/plain": [
       "<Figure size 432x288 with 1 Axes>"
      ]
     },
     "metadata": {
      "needs_background": "light"
     },
     "output_type": "display_data"
    },
    {
     "data": {
      "image/png": "[encoded data removed]",
      "text/plain": [
       "<Figure size 432x288 with 1 Axes>"
      ]
     },
     "metadata": {
      "needs_background": "light"
     },
     "output_type": "display_data"
    }
   ],
   "source": [
    "plot_history(simple_rnn_history)"
   ]
  },
  {
   "cell_type": "code",
   "execution_count": 21,
   "id": "divided-soviet",
   "metadata": {},
   "outputs": [
    {
     "name": "stdout",
     "output_type": "stream",
     "text": [
      "782/782 [==============================] - 11s 14ms/step - loss: 0.6631 - acc: 0.7894\n"
     ]
    },
    {
     "data": {
      "text/plain": [
       "[0.6631066203117371, 0.7893999814987183]"
      ]
     },
     "execution_count": 21,
     "metadata": {},
     "output_type": "execute_result"
    }
   ],
   "source": [
    "simple_rnn.evaluate(x_test, y_test)"
   ]
  },
  {
   "cell_type": "code",
   "execution_count": 23,
   "id": "neither-throat",
   "metadata": {},
   "outputs": [
    {
     "name": "stdout",
     "output_type": "stream",
     "text": [
      "Model: \"sequential_6\"\n",
      "_________________________________________________________________\n",
      "Layer (type)                 Output Shape              Param #   \n",
      "=================================================================\n",
      "embedding_5 (Embedding)      (None, 300, 32)           320000    \n",
      "_________________________________________________________________\n",
      "lstm (LSTM)                  (None, 32)                8320      \n",
      "_________________________________________________________________\n",
      "dense_3 (Dense)              (None, 1)                 33        \n",
      "=================================================================\n",
      "Total params: 328,353\n",
      "Trainable params: 328,353\n",
      "Non-trainable params: 0\n",
      "_________________________________________________________________\n"
     ]
    }
   ],
   "source": [
    "from keras.layers import LSTM\n",
    "\n",
    "lstm = Sequential()\n",
    "lstm.add(Embedding(max_features, 32, input_length=maxlen))\n",
    "lstm.add(LSTM(32))\n",
    "lstm.add(Dense(1, activation='sigmoid'))\n",
    "lstm.compile(optimizer='rmsprop', loss='binary_crossentropy', metrics=['acc'])\n",
    "lstm.summary()"
   ]
  },
  {
   "cell_type": "code",
   "execution_count": 24,
   "id": "narrative-omega",
   "metadata": {},
   "outputs": [
    {
     "name": "stdout",
     "output_type": "stream",
     "text": [
      "Epoch 1/10\n",
      "196/196 [==============================] - 60s 291ms/step - loss: 0.5661 - acc: 0.6933 - val_loss: 0.3120 - val_acc: 0.8680\n",
      "Epoch 2/10\n",
      "196/196 [==============================] - 57s 289ms/step - loss: 0.2811 - acc: 0.8926 - val_loss: 0.3149 - val_acc: 0.8691\n",
      "Epoch 3/10\n",
      "196/196 [==============================] - 59s 303ms/step - loss: 0.2175 - acc: 0.9188 - val_loss: 0.2949 - val_acc: 0.8766\n",
      "Epoch 4/10\n",
      "196/196 [==============================] - 60s 308ms/step - loss: 0.1999 - acc: 0.9270 - val_loss: 0.3581 - val_acc: 0.8687\n",
      "Epoch 5/10\n",
      "196/196 [==============================] - 63s 322ms/step - loss: 0.1658 - acc: 0.9417 - val_loss: 0.3056 - val_acc: 0.8746\n",
      "Epoch 6/10\n",
      "196/196 [==============================] - 63s 320ms/step - loss: 0.1466 - acc: 0.9490 - val_loss: 0.5344 - val_acc: 0.8452\n",
      "Epoch 7/10\n",
      "196/196 [==============================] - 62s 317ms/step - loss: 0.1423 - acc: 0.9493 - val_loss: 0.4769 - val_acc: 0.8438\n",
      "Epoch 8/10\n",
      "196/196 [==============================] - 62s 317ms/step - loss: 0.1336 - acc: 0.9517 - val_loss: 0.4251 - val_acc: 0.8580\n",
      "Epoch 9/10\n",
      "196/196 [==============================] - 65s 333ms/step - loss: 0.1270 - acc: 0.9545 - val_loss: 0.3805 - val_acc: 0.8520\n",
      "Epoch 10/10\n",
      "196/196 [==============================] - 64s 325ms/step - loss: 0.1194 - acc: 0.9599 - val_loss: 0.3811 - val_acc: 0.8670\n"
     ]
    }
   ],
   "source": [
    "lstm_history = lstm.fit(x_train, y_train,\n",
    "                        epochs=10,\n",
    "                        batch_size=128,\n",
    "                        validation_data=(x_test, y_test))"
   ]
  },
  {
   "cell_type": "code",
   "execution_count": 25,
   "id": "impressive-respect",
   "metadata": {},
   "outputs": [
    {
     "data": {
      "image/png": "[encoded data removed]",
      "text/plain": [
       "<Figure size 432x288 with 1 Axes>"
      ]
     },
     "metadata": {
      "needs_background": "light"
     },
     "output_type": "display_data"
    },
    {
     "data": {
      "image/png": "[encoded data removed]",
      "text/plain": [
       "<Figure size 432x288 with 1 Axes>"
      ]
     },
     "metadata": {
      "needs_background": "light"
     },
     "output_type": "display_data"
    }
   ],
   "source": [
    "plot_history(lstm_history)"
   ]
  },
  {
   "cell_type": "code",
   "execution_count": 27,
   "id": "sharing-music",
   "metadata": {},
   "outputs": [
    {
     "name": "stdout",
     "output_type": "stream",
     "text": [
      "782/782 [==============================] - 26s 33ms/step - loss: 0.3811 - acc: 0.8670\n"
     ]
    },
    {
     "data": {
      "text/plain": [
       "[0.38110512495040894, 0.8669999837875366]"
      ]
     },
     "execution_count": 27,
     "metadata": {},
     "output_type": "execute_result"
    }
   ],
   "source": [
    "lstm.evaluate(x_test, y_test)"
   ]
  },
  {
   "cell_type": "code",
   "execution_count": 5,
   "id": "incorporate-beginning",
   "metadata": {},
   "outputs": [
    {
     "name": "stdout",
     "output_type": "stream",
     "text": [
      "Model: \"sequential\"\n",
      "_________________________________________________________________\n",
      "Layer (type)                 Output Shape              Param #   \n",
      "=================================================================\n",
      "embedding (Embedding)        (None, 300, 32)           320000    \n",
      "_________________________________________________________________\n",
      "gru (GRU)                    (None, 32)                6336      \n",
      "_________________________________________________________________\n",
      "dense (Dense)                (None, 1)                 33        \n",
      "=================================================================\n",
      "Total params: 326,369\n",
      "Trainable params: 326,369\n",
      "Non-trainable params: 0\n",
      "_________________________________________________________________\n"
     ]
    }
   ],
   "source": [
    "from keras.layers import GRU\n",
    "from keras.layers import Embedding\n",
    "from keras.models import Sequential\n",
    "from keras.layers import Flatten, Dense\n",
    "\n",
    "gru = Sequential()\n",
    "gru.add(Embedding(max_features, 32, input_length=maxlen))\n",
    "gru.add(GRU(32))\n",
    "gru.add(Dense(1, activation='sigmoid'))\n",
    "gru.compile(optimizer='rmsprop', loss='binary_crossentropy', metrics=['acc'])\n",
    "gru.summary()"
   ]
  },
  {
   "cell_type": "code",
   "execution_count": 6,
   "id": "familiar-enzyme",
   "metadata": {},
   "outputs": [
    {
     "name": "stdout",
     "output_type": "stream",
     "text": [
      "Epoch 1/10\n",
      "196/196 [==============================] - 67s 315ms/step - loss: 0.6083 - acc: 0.6417 - val_loss: 0.3361 - val_acc: 0.8580\n",
      "Epoch 2/10\n",
      "196/196 [==============================] - 56s 287ms/step - loss: 0.2977 - acc: 0.8780 - val_loss: 0.3315 - val_acc: 0.8610\n",
      "Epoch 3/10\n",
      "196/196 [==============================] - 59s 303ms/step - loss: 0.2428 - acc: 0.9033 - val_loss: 0.3054 - val_acc: 0.8720\n",
      "Epoch 4/10\n",
      "196/196 [==============================] - 59s 300ms/step - loss: 0.1988 - acc: 0.9235 - val_loss: 0.3465 - val_acc: 0.8655\n",
      "Epoch 5/10\n",
      "196/196 [==============================] - 61s 310ms/step - loss: 0.1792 - acc: 0.9321 - val_loss: 0.3941 - val_acc: 0.8624\n",
      "Epoch 6/10\n",
      "196/196 [==============================] - 60s 305ms/step - loss: 0.1640 - acc: 0.9404 - val_loss: 0.3633 - val_acc: 0.8446\n",
      "Epoch 7/10\n",
      "196/196 [==============================] - 59s 302ms/step - loss: 0.1463 - acc: 0.9481 - val_loss: 0.3334 - val_acc: 0.8706\n",
      "Epoch 8/10\n",
      "196/196 [==============================] - 60s 306ms/step - loss: 0.1316 - acc: 0.9539 - val_loss: 0.3388 - val_acc: 0.8715\n",
      "Epoch 9/10\n",
      "196/196 [==============================] - 61s 313ms/step - loss: 0.1218 - acc: 0.9554 - val_loss: 0.3343 - val_acc: 0.8658\n",
      "Epoch 10/10\n",
      "196/196 [==============================] - 62s 315ms/step - loss: 0.1129 - acc: 0.9604 - val_loss: 0.3894 - val_acc: 0.8672\n"
     ]
    }
   ],
   "source": [
    "gru_history = gru.fit(x_train, y_train,\n",
    "                        epochs=10,\n",
    "                        batch_size=128,\n",
    "                        validation_data=(x_test, y_test))"
   ]
  },
  {
   "cell_type": "code",
   "execution_count": 7,
   "id": "simplified-quantity",
   "metadata": {},
   "outputs": [
    {
     "data": {
      "image/png": "[encoded data removed]",
      "text/plain": [
       "<Figure size 432x288 with 1 Axes>"
      ]
     },
     "metadata": {
      "needs_background": "light"
     },
     "output_type": "display_data"
    },
    {
     "data": {
      "image/png": "[encoded data removed]",
      "text/plain": [
       "<Figure size 432x288 with 1 Axes>"
      ]
     },
     "metadata": {
      "needs_background": "light"
     },
     "output_type": "display_data"
    }
   ],
   "source": [
    "plot_history(gru_history)"
   ]
  },
  {
   "cell_type": "code",
   "execution_count": 8,
   "id": "nutritional-reading",
   "metadata": {},
   "outputs": [
    {
     "name": "stdout",
     "output_type": "stream",
     "text": [
      "782/782 [==============================] - ETA: 0s - loss: 0.3894 - acc: 0.8672- ET - ETA: 1s - los - 24s 31ms/step - loss: 0.3894 - acc: 0.8672\n"
     ]
    },
    {
     "data": {
      "text/plain": [
       "[0.3894098699092865, 0.8672400116920471]"
      ]
     },
     "execution_count": 8,
     "metadata": {},
     "output_type": "execute_result"
    }
   ],
   "source": [
    "gru.evaluate(x_test, y_test)"
   ]
  },
  {
   "cell_type": "code",
   "execution_count": 9,
   "id": "facial-clause",
   "metadata": {},
   "outputs": [
    {
     "data": {
      "image/png": "[encoded data removed]",
      "text/plain": [
       "<Figure size 432x288 with 2 Axes>"
      ]
     },
     "metadata": {
      "needs_background": "light"
     },
     "output_type": "display_data"
    }
   ],
   "source": [
    "import seaborn as sns\n",
    "from sklearn.metrics import confusion_matrix\n",
    "\n",
    "y_pred=(gru.predict(x_test) > 0.5).astype(\"int32\")\n",
    "cm = confusion_matrix(y_test, y_pred)\n",
    "ax = sns.heatmap(cm, annot=True, fmt='d')\n",
    "ax.set_title('Confusion Matrix');\n",
    "ax.set_xlabel('Predicted Values')\n",
    "ax.set_ylabel('Actual Values ');\n",
    "plt.show()"
   ]
  },
  {
   "cell_type": "code",
   "execution_count": 10,
   "id": "lesbian-shuttle",
   "metadata": {},
   "outputs": [
    {
     "data": {
      "image/png": "[encoded data removed]",
      "text/plain": [
       "<Figure size 432x288 with 1 Axes>"
      ]
     },
     "metadata": {
      "needs_background": "light"
     },
     "output_type": "display_data"
    }
   ],
   "source": [
    "from sklearn.metrics import roc_curve,auc\n",
    "\n",
    "plt.plot([0, 1], [0, 1], linestyle='--', label='neg')\n",
    "fpr, tpr, _ = roc_curve(y_test, y_pred)\n",
    "roc_auc = auc(fpr, tpr)\n",
    "plt.plot(fpr, tpr, marker='.', label = 'pos AUC = %0.2f' % roc_auc)\n",
    "plt.xlabel('False Positive Rate')\n",
    "plt.ylabel('True Positive Rate')\n",
    "plt.legend()\n",
    "plt.show()"
   ]
  },
  {
   "cell_type": "code",
   "execution_count": 11,
   "id": "powerful-minimum",
   "metadata": {},
   "outputs": [
    {
     "name": "stdout",
     "output_type": "stream",
     "text": [
      "Accuracy: 0.87\n",
      "Precision: 0.844\n",
      "Recall: 0.901\n",
      "F1-measure: 0.872\n"
     ]
    }
   ],
   "source": [
    "from sklearn.metrics import recall_score, f1_score, accuracy_score, precision_score\n",
    "\n",
    "print('Accuracy: %.2f' % accuracy_score(y_true=y_test, y_pred=y_pred))\n",
    "print('Precision: %.3f' % precision_score(y_true=y_test, y_pred=y_pred))\n",
    "print('Recall: %.3f' % recall_score(y_true=y_test, y_pred=y_pred))\n",
    "print('F1-measure: %.3f' % f1_score(y_true=y_test, y_pred=y_pred))"
   ]
  },
  {
   "cell_type": "markdown",
   "id": "adequate-complexity",
   "metadata": {},
   "source": [
    "## Parametre Optimizasyonu (Keras Tuner)"
   ]
  },
  {
   "cell_type": "code",
   "execution_count": null,
   "id": "announced-retirement",
   "metadata": {},
   "outputs": [],
   "source": [
    "!pip install keras-tuner\n",
    "\n",
    "from tensorflow import keras\n",
    "from tensorflow.keras import layers\n",
    "from kerastuner.tuners import RandomSearch\n",
    "\n",
    "def build_model_function(hp):\n",
    "    model = keras.Sequential()\n",
    "    model.add(layers.Dense(units=hp.Int('units', min_value=32,\n",
    "                           max_value=512, step=32), activation='relu'))\n",
    "    model.add(layers.Dense(10, activation='softmax'))\n",
    "    model.compile(optimizer=keras.optimizers.Adam(\n",
    "        hp.Choice('learning_rate',values=[1e-2, 1e-3, 1e-4])),\n",
    "        loss='sparse_categorical_crossentropy',\n",
    "        metrics=['accuracy'])\n",
    "    return model\n",
    "    \n",
    "tuner = RandomSearch(\n",
    "    build_model_function,\n",
    "    objective='val_accuracy',\n",
    "    max_trials=5,\n",
    "    executions_per_trial=3,\n",
    "    directory='my_dir')\n",
    "tuner.search_space_summary()\n",
    "tuner.search(x, y, epochs=5, validation_data=(val_x, val_y))\n",
    "models = tuner.get_best_models(num_models=2)\n",
    "tuner.results_summary()"
   ]
  }
 ],
 "metadata": {
  "kernelspec": {
   "display_name": "Python 3",
   "language": "python",
   "name": "python3"
  },
  "language_info": {
   "codemirror_mode": {
    "name": "ipython",
    "version": 3
   },
   "file_extension": ".py",
   "mimetype": "text/x-python",
   "name": "python",
   "nbconvert_exporter": "python",
   "pygments_lexer": "ipython3",
   "version": "3.8.8"
  }
 },
 "nbformat": 4,
 "nbformat_minor": 5
}
