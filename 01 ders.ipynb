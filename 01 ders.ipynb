{
 "cells": [
  {
   "cell_type": "code",
   "execution_count": 1,
   "id": "2eca4f33",
   "metadata": {},
   "outputs": [],
   "source": [
    "import os\n",
    "#os.startfile('C:\\\\Path\\\\To\\\\file.docx')\n",
    "os.startfile('deepLearning.docx')"
   ]
  },
  {
   "cell_type": "markdown",
   "id": "cacc9c80",
   "metadata": {},
   "source": [
    "Ders kitabı: \n",
    "- Deep Learning, https://www.deeplearningbook.org/"
   ]
  },
  {
   "cell_type": "markdown",
   "id": "a0f33c62",
   "metadata": {},
   "source": [
    "## Derin öğrenme nedir?\n",
    "- Derin öğrenme, bilgisayarlara insanlara doğal olarak gelen şeyi yapmayı öğreten bir makine öğrenimi tekniğidir: örnekten öğrenmedir. \n",
    "- Derin öğrenme, sürücüsüz araçların ardındaki kilit bir teknolojidir ve dur işaretini tanımalarını veya bir yayayı bir elektrik direğinden ayırt etmelerini sağlar. \n",
    "- Derin öğrenme, son zamanlarda ve iyi bir nedenle çok fazla ilgi görüyor. \n",
    "- Daha önce mümkün olmayan sonuçlara ulaşıyor.\n",
    "\n",
    "![Tek girdili nöron.](imgs/deep_learning_comparison.png)\n",
    "\n",
    "- Derin öğrenmede, bir bilgisayar modeli doğrudan görüntülerden, metinden veya sesten sınıflandırma işlevlerini gerçekleştirmeyi öğrenir. \n",
    "- Derin öğrenme modelleri, bazen insan düzeyindeki performansını da aşan doğruluğa ulaşabilir. \n",
    "- Modeller, geniş bir etiketli veri seti ile çok sayıda katman içeren sinir ağı mimarileri kullanılarak eğitilir."
   ]
  },
  {
   "cell_type": "markdown",
   "id": "2017052f",
   "metadata": {},
   "source": [
    "## Derin Öğrenme Neden Önemlidir?\n",
    "### Derin öğrenme bu kadar etkileyici sonuçlara nasıl ulaşır?\n",
    "- Tek kelimeyle doğruluk. \n",
    "- Derin öğrenme, her zamankinden daha yüksek seviyelerde tanıma doğruluğu sağlar. \n",
    "- Bu, tüketici elektroniğinin kullanıcı beklentilerini karşılamasına yardımcı olur ve sürücüsüz arabalar gibi güvenlik açısından kritik uygulamalar için çok önemlidir. \n",
    "- Derin öğrenmedeki son gelişmeler, derin öğrenmenin, görüntülerdeki nesneleri sınıflandırma gibi bazı görevlerde insanlardan daha iyi performans gösterdiği noktaya geldi.\n",
    "\n",
    "<ol>\n",
    "  <p>Derin öğrenme ilk olarak 1980'lerde teorize edilmiş olsa da, ancak son zamanlarda faydalı hale gelmesinin iki ana nedeni vardır:</p>\n",
    "  <li>Derin öğrenme, büyük miktarda etiketlenmiş veri gerektirir. Örneğin, sürücüsüz araba geliştirme, milyonlarca görüntü ve binlerce saatlik video gerektirir.</li>\n",
    "  <li>Derin öğrenme, yüksek miktarda bilgi işlem gücü gerektirir. Yüksek performanslı GPU'lar, derin öğrenme için verimli olan paralel bir mimariye sahiptir. Bu, kümeler veya bulut bilişim ile birleştirildiğinde, geliştirme ekiplerinin derin öğrenme ağı için eğitim süresini haftalardan saatlere veya daha azına indirmesini sağlar.</li>\n",
    "</ol>"
   ]
  },
  {
   "cell_type": "markdown",
   "id": "4339dc70",
   "metadata": {},
   "source": [
    "#### Sektörde Derin Öğrenme Örnekleri\n",
    "Derin öğrenme uygulamaları, otomatik sürüşten tıbbi cihazlara kadar birçok sektörde kullanılmaktadır.\n",
    "<dl>\n",
    "<dt>Otomatik Sürüş</dt>\n",
    "<dd>Otomotiv araştırmacıları, dur işaretleri ve trafik ışıkları gibi nesneleri otomatik olarak algılamak için derin öğrenmeyi kullanıyor. Ayrıca yayaları tespit etmek için derin öğrenme kullanılıyor ve bu da kazaların azalmasına yardımcı oluyor.</dd>\n",
    "<dt>Havacılık ve Savunma</dt>\n",
    "<dd>Derin öğrenme, ilgi alanlarını belirleyen uydulardan gelen nesneleri belirlemek ve birlikler için güvenli veya güvensiz bölgeleri belirlemek için kullanılır.</dd>\n",
    "<dt>Tıbbi Araştırma</dt>\n",
    "<dd>Kanser araştırmacıları, kanser hücrelerini otomatik olarak tespit etmek için derin öğrenmeyi kullanıyor. UCLA'daki ekipler, kanser hücrelerini doğru bir şekilde tanımlamak için bir derin öğrenme uygulamasını eğitmek için kullanılan yüksek boyutlu bir veri seti sağlayan gelişmiş bir mikroskop oluşturdu..</dd>\n",
    "<dt>Endüstriyel Otomasyon</dt>\n",
    "<dd>Derin öğrenme, insanların veya nesnelerin güvenli olmayan bir makine mesafesinde olduğunu otomatik olarak algılayarak, ağır makinelerin etrafındaki işçi güvenliğini artırmaya yardımcı olur.</dd>\n",
    "<dt>Elektronik</dt>\n",
    "<dd>Derin öğrenme, otomatik işitme ve konuşma çevirisinde kullanılıyor. Örneğin, sesinize yanıt veren ve tercihlerinizi bilen ev yardım cihazları, derin öğrenme uygulamaları tarafından desteklenmektedir.</dd>\n",
    "</dl>"
   ]
  },
  {
   "cell_type": "markdown",
   "id": "524d6285",
   "metadata": {},
   "source": [
    "#### Derin Öğrenme Nasıl Çalışır?\n",
    "- Çoğu derin öğrenme yöntemi, sinir ağı mimarilerini kullanır, bu nedenle derin öğrenme modellerine genellikle derin sinir ağları denir.\n",
    "\n",
    "- \"Derin\" terimi genellikle sinir ağındaki gizli katmanların sayısını ifade eder. Geleneksel sinir ağları yalnızca 2-3 gizli katman içerirken, derin ağlar 150'ye kadar olabilir.\n",
    "\n",
    "- Derin öğrenme modelleri, manuel özellik çıkarımına gerek kalmadan özellikleri doğrudan verilerden öğrenen büyük etiketli veri kümeleri ve sinir ağı mimarileri kullanılarak eğitilir.\n",
    "![Tek girdili nöron.](imgs/deep_forward_net.svg)"
   ]
  },
  {
   "cell_type": "markdown",
   "id": "914c45af",
   "metadata": {},
   "source": [
    "- Derin sinir ağlarının en popüler türlerinden biri, evrişimli sinir ağları (CNN veya ConvNet) olarak bilinir. Bir CNN, öğrenilen özellikleri girdi verileriyle birleştirir ve 2B evrişim katmanlarını kullanır, bu mimariyi görüntüler gibi 2B verileri işlemeye çok uygun hale getirir.\n",
    "\n",
    "- CNN'ler manuel özellik çıkarma ihtiyacını ortadan kaldırır, bu nedenle görüntüleri sınıflandırmak için kullanılan özellikleri tanımlamanız gerekmez. CNN, özellikleri doğrudan görüntülerden çıkararak çalışır. İlgili özellikler önceden eğitilmemiştir; ağ bir görüntü koleksiyonu üzerinde eğitirken öğrenilirler. Bu otomatikleştirilmiş özellik çıkarma, derin öğrenme modellerini nesne sınıflandırma gibi bilgisayarla görme görevleri için oldukça hassas hale getirir.\n",
    "\n",
    "![Tek girdili nöron.](imgs/CNN1.svg)\n",
    "- CNN'ler, onlarca veya yüzlerce gizli katman kullanarak bir görüntünün farklı özelliklerini algılamayı öğrenir. Her gizli katman, öğrenilen görüntü özelliklerinin karmaşıklığını artırır. Örneğin, ilk gizli katman, kenarların nasıl algılanacağını öğrenebilir ve sonuncusu, tanımaya çalıştığımız nesnenin şekline özel olarak sağlanan daha karmaşık şekilleri nasıl algılayacağını öğrenir."
   ]
  },
  {
   "cell_type": "markdown",
   "id": "17113fa7",
   "metadata": {},
   "source": [
    "#### Makine Öğrenimi ve Derin Öğrenme Arasındaki Fark Nedir?\n",
    "- Derin öğrenme, makine öğreniminin özel bir şeklidir. \n",
    "- Bir makine öğrenmesi modelinde, ilgili özelliklerin görüntülerden manuel olarak çıkarılmasıyla başlar. Özellikler daha sonra görüntüdeki nesneleri kategorize eden bir model oluşturmak için kullanılır. \n",
    "- Derin öğrenme modelinde ise, ilgili özellikler görüntülerden otomatik olarak çıkarılır. Ek olarak, derin öğrenme, bir ağa ham veri ve sınıflandırma gibi gerçekleştirmesi gereken bir görevin verildiği “uçtan uca öğrenme” gerçekleştirir ve bunu otomatik olarak nasıl yapacağını öğrenir.\n",
    "\n",
    "- Diğer bir önemli fark, derin öğrenme algoritmalarının verilerle ölçeklenmesi, sığ öğrenmenin yakınsamasıdır. Sığ öğrenme, ağa daha fazla örnek ve eğitim verisi eklediğinizde belirli bir performans düzeyinde plato oluşturan makine öğrenimi yöntemlerini ifade eder.\n",
    "\n",
    "- Derin öğrenme ağlarının önemli bir avantajı, verilerinizin boyutu arttıkça genellikle gelişmeye devam etmeleridir.\n",
    "\n",
    "\n",
    "![Tek girdili nöron.](imgs/machine_vs_deep.svg)\n",
    "\n",
    "- Makine öğreniminde, görüntüleri sınıflamak için özellikleri manuel olarak seçersiniz. Derin öğrenme ile özellik çıkarma ve modelleme adımları otomatiktir."
   ]
  },
  {
   "cell_type": "markdown",
   "id": "7599f233",
   "metadata": {},
   "source": [
    "#### Makine Öğrenimi ve Derin Öğrenme Arasında Seçim Yapmak\n",
    "- Makine öğrenimi, uygulamanıza, işlediğiniz verilerin boyutuna ve çözmek istediğiniz sorunun türüne göre seçebileceğiniz çeşitli teknikler ve modeller sunar. \n",
    "- Başarılı bir derin öğrenme uygulaması, modeli eğitmek için çok büyük miktarda veri (binlerce görüntü) ve verilerinizi hızlı bir şekilde işlemek için GPU'lar veya grafik işleme birimleri gerektirir.\n",
    "\n",
    "- Makine öğrenimi ve derin öğrenme arasında seçim yaparken, yüksek performanslı bir GPU'nuz ve çok sayıda etiketli veriniz olup olmadığını göz önünde bulundurun. Bunlardan herhangi birine sahip değilseniz, derin öğrenme yerine makine öğrenimini kullanmak daha mantıklı olabilir. Derin öğrenme genellikle daha karmaşıktır, bu nedenle güvenilir sonuçlar elde etmek için en az birkaç bin görüntüye ihtiyacınız olacaktır. Yüksek performanslı bir GPU'ya sahip olmak, modelin tüm bu görüntüleri analiz etmesi için daha az zaman alacağı anlamına gelir."
   ]
  },
  {
   "cell_type": "code",
   "execution_count": 7,
   "id": "c717330e",
   "metadata": {},
   "outputs": [],
   "source": [
    "import matplotlib.pyplot as plt\n",
    "import numpy as np"
   ]
  },
  {
   "cell_type": "code",
   "execution_count": 6,
   "id": "15a5031e",
   "metadata": {},
   "outputs": [
    {
     "name": "stdout",
     "output_type": "stream",
     "text": [
      "[[0 0]\n",
      " [0 1]\n",
      " [1 0]\n",
      " [1 1]] [0 1 1 1]\n"
     ]
    }
   ],
   "source": [
    "X = np.array([[0, 0], [0, 1], [1,0], [1,1]])\n",
    "y = np.array([0,1,1,1])"
   ]
  },
  {
   "cell_type": "code",
   "execution_count": 9,
   "id": "cc00cd92",
   "metadata": {},
   "outputs": [
    {
     "data": {
      "text/plain": [
       "<matplotlib.legend.Legend at 0x1bea465aac0>"
      ]
     },
     "execution_count": 9,
     "metadata": {},
     "output_type": "execute_result"
    },
    {
     "data": {
      "image/png": "[encoded data removed]",
      "text/plain": [
       "<Figure size 288x288 with 1 Axes>"
      ]
     },
     "metadata": {
      "needs_background": "light"
     },
     "output_type": "display_data"
    }
   ],
   "source": [
    "figsize=(4, 4)\n",
    "plt.figure(figsize=figsize)\n",
    "plt.plot(X[y==0, 0], X[y==0, 1], 'or', alpha=0.5, label=0)\n",
    "plt.plot(X[y==1, 0], X[y==1, 1], 'ob', alpha=0.5, label=1)\n",
    "plt.xlim((min(X[:, 0])-0.1, max(X[:, 0])+0.1))\n",
    "plt.ylim((min(X[:, 1])-0.1, max(X[:, 1])+0.1))\n",
    "plt.legend()"
   ]
  },
  {
   "cell_type": "code",
   "execution_count": 20,
   "id": "edee2019",
   "metadata": {},
   "outputs": [
    {
     "data": {
      "text/plain": [
       "[<matplotlib.lines.Line2D at 0x1bea5ae1a30>]"
      ]
     },
     "execution_count": 20,
     "metadata": {},
     "output_type": "execute_result"
    },
    {
     "data": {
      "image/png": "[encoded data removed]",
      "text/plain": [
       "<Figure size 432x432 with 1 Axes>"
      ]
     },
     "metadata": {
      "needs_background": "light"
     },
     "output_type": "display_data"
    }
   ],
   "source": [
    "figsize=(6, 6)\n",
    "plt.figure(figsize=figsize)\n",
    "plt.plot(X[y==0, 0], X[y==0, 1], 'or', alpha=0.5, label=0)\n",
    "plt.plot(X[y==1, 0], X[y==1, 1], 'ob', alpha=0.5, label=1)\n",
    "plt.xlim((min(X[:, 0])-0.1, max(X[:, 0])+0.1))\n",
    "plt.ylim((min(X[:, 1])-0.1, max(X[:, 1])+0.1))\n",
    "plt.legend()\n",
    "\n",
    "\n",
    "limits = np.array([0, 1])\n",
    "boundary = np.array([0.8, -0.7])\n",
    "plt.plot(limits, boundary, \"g-\", linewidth=2)"
   ]
  },
  {
   "cell_type": "markdown",
   "id": "e17250ae",
   "metadata": {},
   "source": [
    "### Notasyon\n",
    "- Sabitler — küçük italic harfler: *a,b,c*\n",
    "- Vectörler — küçük koyu italik olmayan harfler: **a,b,c**\n",
    "- Matrisler — Büyük KOYU italik olmayan harfler: **A,B,C**"
   ]
  },
  {
   "cell_type": "markdown",
   "id": "f6d251ff",
   "metadata": {},
   "source": [
    "\n",
    "\n",
    "\n",
    "\n",
    "\n",
    "\n",
    "\n",
    "\n",
    "\n",
    "\n",
    "\n",
    "\n",
    "\n",
    "# Nöron Model\n",
    "### Tek girdili Nöron\n",
    "\n",
    "Şekil :numref:`fig_single_input`'de görülebilir.\n",
    "\n",
    "![Tek girdili nöron.](imgs/single_neuron.png)\n",
    ":label:`fig_single_input`\n",
    "\n",
    "Nöron çıktısı:\n",
    "\\begin{equation}\n",
    "a=f(wp+b)\n",
    "\\end{equation}\n",
    "denklemi ile hesaplanır.\n",
    "\n",
    "Örneğin, $w=3$, $p=2$ ve $b=-1,5$ aldığımızda\n",
    "\\begin{equation}\n",
    "a=f(3\\times 2+(-1,5))=f(4,5)\n",
    "\\end{equation}\n",
    "Gerçek çıktı ise transfer(aktivasyon) foksiyonuna bağlıdır, ve nasıl seçildiği önemlidir.\n",
    "\n",
    "Bias, bir ağırlık gibidir, ancak girdi değeri 1'dir.\n",
    "\n",
    "Dikkat edelim ki $w$ ve $b$ değerlerinin her ikisi nöronun ayarlanabilir parametreleridir."
   ]
  },
  {
   "cell_type": "code",
   "execution_count": null,
   "id": "f51568ae",
   "metadata": {},
   "outputs": [],
   "source": []
  },
  {
   "cell_type": "markdown",
   "id": "844e22cb",
   "metadata": {},
   "source": [
    "### Transfer Fonksiyonları\n",
    "\n",
    "- Transfer Fonksiyonları aynı zamanda aktivasyon fonksiyonlarıolarakta anılırlar.\n",
    "- Lineer veya lineer olmayan olabilirler.\n",
    "- Nöronun çözmeye çalıştığı problemin bazı özelliklerini karşılamak için belirli bir transfer fonksiyonu seçilir.\n",
    "\n",
    "#### Sabit Limit Transfer Fonksiyonu\n",
    "- Ağağıdaki şekilin sol tarafında gösterilen sabit limit transfer fonksiyonu, fonksiyon argümanı 0'dan küçükse nöronun çıkışını 0'a veya argümanı 0'dan büyük veya ona eşitse 1'e ayarlar.\n",
    "![Sabit Limit Transfer Fonksiyonu.](imgs/hardlim.png)\n",
    "\n",
    "#### Doğrusal Limit Transfer Fonksiyonu\n",
    "- Doğrusal bir transfer fonksiyonunun çıktısı, girdisine eşittir\n",
    "![Doğrusal Limit Transfer Fonksiyonu.](imgs/purelin.png)\n",
    "\n",
    "####  Log-Sigmoid Transfer Fonksiyonu\n",
    "- Bu transfer fonksiyonu bir girdiyi alır (artı ile eksi sonsuz arasında herhangi bir değere sahip olabilir) ve çıktıyı aşağıdaki denklemi kullanarak 0 ile 1 aralığına sıkıştırır:\n",
    "\\begin{equation}\n",
    "a=\\frac{1}{1+e^{-n}}\n",
    "\\end{equation}\n",
    "\n",
    "![ Log-Sigmoid Limit Transfer Fonksiyonu.](imgs/logsig.png)\n",
    "\n",
    "- Log-sigmoid transfer fonksiyonu, türevlenebilir olması nedeniyle, geri yayılım algoritması kullanılarak eğitilen birçok katmanlı ağlarda yaygın olarak kullanılır."
   ]
  },
  {
   "cell_type": "markdown",
   "id": "6b7607c3",
   "metadata": {},
   "source": [
    "### Multiple-Input Neuron\n",
    "- Tipik bir nöronun birden fazla girişi vardır. \n",
    "- Girdileri sayısı $R$ olan bir nöron Şekil Şekil :numref:`fig_multi_input`'de gösterilmiştir. Bireysel girdiler $p_{1},p_{2},\\cdots,\\p_{R}$ her biri, ağırlık matrisi ${\\bf W}$'nin karşılık gelen $w_{1,1},w_{1,2},\\cdots,w_{1,R}$ elemanlarıyle ağırlıklandırılır.\n",
    "![Tek girdili nöron.](imgs/multi_input_neuron.png)\n",
    ":label:`fig_multi_input`\n",
    "- Nöronun, net girdi $n$'yi oluşturmak için ağırlıklı girdilerle toplanan bir $b$ bias değeri vardır:\n",
    "\\begin{equation}\n",
    "n=w_{1,1}p_{1}+w_{1,2}p_{2}+\\cdots,+w_{1,R}p_{R}\n",
    "\\end{equation}\n",
    "\n",
    "\n",
    "- Bu ifade matris formunda yazılabilir. O zaman\n",
    "\\begin{equation}\n",
    "n={\\bf W}{\\bf p}+b\n",
    "\\end{equation}\n",
    "burada ${\\bf W}$ matrisi tek nöron olduğundan sadece tek satıra sahiptir.\n",
    "\n",
    "- Şimdi nöron çıktısı şu şekilde yazılabilir:\n",
    "\\begin{equation}\n",
    "n=f({\\bf W}{\\bf p}+b)\n",
    "\\end{equation}\n",
    "\n",
    "\n",
    "![Tek girdili nöron.](imgs/multi_input_neuron_compact.png)\n",
    ":label:`fig_multi_input`"
   ]
  },
  {
   "cell_type": "markdown",
   "id": "7fac50e9",
   "metadata": {},
   "source": [
    "![Tek girdili nöron.](imgs/multi_input_neuron.png)\n",
    ":label:`fig_multi_input`\n",
    "\n",
    "![Tek girdili nöron.](imgs/one_layer_network_compact.png)\n",
    ":label:`fig_multi_input`"
   ]
  },
  {
   "cell_type": "code",
   "execution_count": null,
   "id": "fbf796b6",
   "metadata": {},
   "outputs": [],
   "source": []
  }
 ],
 "metadata": {
  "kernelspec": {
   "display_name": "Python 3",
   "language": "python",
   "name": "python3"
  },
  "language_info": {
   "codemirror_mode": {
    "name": "ipython",
    "version": 3
   },
   "file_extension": ".py",
   "mimetype": "text/x-python",
   "name": "python",
   "nbconvert_exporter": "python",
   "pygments_lexer": "ipython3",
   "version": "3.8.8"
  }
 },
 "nbformat": 4,
 "nbformat_minor": 5
}
